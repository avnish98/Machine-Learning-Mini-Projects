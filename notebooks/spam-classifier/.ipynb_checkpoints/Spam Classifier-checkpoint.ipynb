{
 "cells": [
  {
   "cell_type": "code",
   "execution_count": 1,
   "metadata": {},
   "outputs": [
    {
     "name": "stdout",
     "output_type": "stream",
     "text": [
      "['spam', 'spam', 'spam', 'spam', 'spam', 'spam', 'spam', 'spam', 'spam', 'spam']\n",
      "[\"b'Urgent! call 09061749602 from Landline. Your complimentary 4* Tenerife Holiday or \\\\xa310000 cash await collection SAE T&Cs BOX 528 HP20 1YF 150ppm 18+\", \"b'+449071512431 URGENT! This is the 2nd attempt to contact U!U have WON \\\\xa31250 CALL 09071512433 b4 050703 T&CsBCM4235WC1N3XX. callcost 150ppm mobilesvary. max\\\\xa37. 50\", \"b'FREE for 1st week! No1 Nokia tone 4 ur mob every week just txt NOKIA to 8007 Get txting and tell ur mates www.getzed.co.uk POBox 36504 W45WQ norm150p/tone 16+\"]\n"
     ]
    }
   ],
   "source": [
    "with open('english_big.txt','rb') as file:\n",
    "    \n",
    "    line_list = file.readlines()\n",
    "\n",
    "    spam_or_ham = []\n",
    "    message_content = []\n",
    "    for i in range(0,len(line_list)-1):\n",
    "        current = str(line_list[i])\n",
    "        current_splitted = current.split(\",\")\n",
    "        \n",
    "        call = current_splitted[-1]\n",
    "        call = call.split('\\\\')[0]\n",
    "        spam_or_ham.append(call)\n",
    "        \n",
    "        current_splitted.pop(-1)\n",
    "        content = current_splitted\n",
    "        content = ''.join(content)\n",
    "        message_content.append(content)\n",
    "        \n",
    "    print(spam_or_ham[0:10])    \n",
    "    print(message_content[0:3])    \n",
    "    "
   ]
  },
  {
   "cell_type": "code",
   "execution_count": 2,
   "metadata": {},
   "outputs": [
    {
     "name": "stderr",
     "output_type": "stream",
     "text": [
      "/usr/lib/python3.6/importlib/_bootstrap.py:219: RuntimeWarning: numpy.dtype size changed, may indicate binary incompatibility. Expected 96, got 88\n",
      "  return f(*args, **kwds)\n",
      "/usr/lib/python3.6/importlib/_bootstrap.py:219: RuntimeWarning: numpy.dtype size changed, may indicate binary incompatibility. Expected 96, got 88\n",
      "  return f(*args, **kwds)\n"
     ]
    },
    {
     "data": {
      "text/html": [
       "<div>\n",
       "<style scoped>\n",
       "    .dataframe tbody tr th:only-of-type {\n",
       "        vertical-align: middle;\n",
       "    }\n",
       "\n",
       "    .dataframe tbody tr th {\n",
       "        vertical-align: top;\n",
       "    }\n",
       "\n",
       "    .dataframe thead th {\n",
       "        text-align: right;\n",
       "    }\n",
       "</style>\n",
       "<table border=\"1\" class=\"dataframe\">\n",
       "  <thead>\n",
       "    <tr style=\"text-align: right;\">\n",
       "      <th></th>\n",
       "      <th>message_content</th>\n",
       "      <th>spam_or_ham</th>\n",
       "    </tr>\n",
       "  </thead>\n",
       "  <tbody>\n",
       "    <tr>\n",
       "      <th>0</th>\n",
       "      <td>b'Urgent! call 09061749602 from Landline. Your...</td>\n",
       "      <td>spam</td>\n",
       "    </tr>\n",
       "    <tr>\n",
       "      <th>1</th>\n",
       "      <td>b'+449071512431 URGENT! This is the 2nd attemp...</td>\n",
       "      <td>spam</td>\n",
       "    </tr>\n",
       "    <tr>\n",
       "      <th>2</th>\n",
       "      <td>b'FREE for 1st week! No1 Nokia tone 4 ur mob e...</td>\n",
       "      <td>spam</td>\n",
       "    </tr>\n",
       "    <tr>\n",
       "      <th>3</th>\n",
       "      <td>b'Urgent! call 09066612661 from landline. Your...</td>\n",
       "      <td>spam</td>\n",
       "    </tr>\n",
       "    <tr>\n",
       "      <th>4</th>\n",
       "      <td>b'WINNER!! As a valued network customer you ha...</td>\n",
       "      <td>spam</td>\n",
       "    </tr>\n",
       "  </tbody>\n",
       "</table>\n",
       "</div>"
      ],
      "text/plain": [
       "                                     message_content spam_or_ham\n",
       "0  b'Urgent! call 09061749602 from Landline. Your...        spam\n",
       "1  b'+449071512431 URGENT! This is the 2nd attemp...        spam\n",
       "2  b'FREE for 1st week! No1 Nokia tone 4 ur mob e...        spam\n",
       "3  b'Urgent! call 09066612661 from landline. Your...        spam\n",
       "4  b'WINNER!! As a valued network customer you ha...        spam"
      ]
     },
     "execution_count": 2,
     "metadata": {},
     "output_type": "execute_result"
    }
   ],
   "source": [
    "import pandas as pd\n",
    "\n",
    "spam = pd.DataFrame({\"message_content\":message_content,\n",
    "                     \"spam_or_ham\":spam_or_ham})\n",
    "spam.head()"
   ]
  },
  {
   "cell_type": "code",
   "execution_count": 3,
   "metadata": {},
   "outputs": [
    {
     "name": "stdout",
     "output_type": "stream",
     "text": [
      "<class 'pandas.core.frame.DataFrame'>\n",
      "RangeIndex: 1323 entries, 0 to 1322\n",
      "Data columns (total 2 columns):\n",
      "message_content    1323 non-null object\n",
      "spam_or_ham        1323 non-null object\n",
      "dtypes: object(2)\n",
      "memory usage: 20.8+ KB\n"
     ]
    }
   ],
   "source": [
    "spam.info()"
   ]
  },
  {
   "cell_type": "code",
   "execution_count": 30,
   "metadata": {},
   "outputs": [
    {
     "data": {
      "text/html": [
       "<div>\n",
       "<style scoped>\n",
       "    .dataframe tbody tr th:only-of-type {\n",
       "        vertical-align: middle;\n",
       "    }\n",
       "\n",
       "    .dataframe tbody tr th {\n",
       "        vertical-align: top;\n",
       "    }\n",
       "\n",
       "    .dataframe thead th {\n",
       "        text-align: right;\n",
       "    }\n",
       "</style>\n",
       "<table border=\"1\" class=\"dataframe\">\n",
       "  <thead>\n",
       "    <tr style=\"text-align: right;\">\n",
       "      <th></th>\n",
       "      <th>message_content</th>\n",
       "      <th>spam_or_ham</th>\n",
       "      <th>spam</th>\n",
       "      <th>urgent</th>\n",
       "      <th>exclaim</th>\n",
       "      <th>free</th>\n",
       "      <th>number</th>\n",
       "      <th>website</th>\n",
       "      <th>explicit</th>\n",
       "      <th>shorted</th>\n",
       "    </tr>\n",
       "  </thead>\n",
       "  <tbody>\n",
       "    <tr>\n",
       "      <th>0</th>\n",
       "      <td>b'Urgent! call 09061749602 from Landline. Your...</td>\n",
       "      <td>spam</td>\n",
       "      <td>1</td>\n",
       "      <td>1</td>\n",
       "      <td>1</td>\n",
       "      <td>1</td>\n",
       "      <td>0</td>\n",
       "      <td>0</td>\n",
       "      <td>1</td>\n",
       "      <td>1</td>\n",
       "    </tr>\n",
       "    <tr>\n",
       "      <th>1</th>\n",
       "      <td>b'+449071512431 URGENT! This is the 2nd attemp...</td>\n",
       "      <td>spam</td>\n",
       "      <td>1</td>\n",
       "      <td>1</td>\n",
       "      <td>1</td>\n",
       "      <td>1</td>\n",
       "      <td>0</td>\n",
       "      <td>0</td>\n",
       "      <td>1</td>\n",
       "      <td>1</td>\n",
       "    </tr>\n",
       "    <tr>\n",
       "      <th>2</th>\n",
       "      <td>b'FREE for 1st week! No1 Nokia tone 4 ur mob e...</td>\n",
       "      <td>spam</td>\n",
       "      <td>1</td>\n",
       "      <td>1</td>\n",
       "      <td>1</td>\n",
       "      <td>1</td>\n",
       "      <td>0</td>\n",
       "      <td>1</td>\n",
       "      <td>1</td>\n",
       "      <td>1</td>\n",
       "    </tr>\n",
       "    <tr>\n",
       "      <th>3</th>\n",
       "      <td>b'Urgent! call 09066612661 from landline. Your...</td>\n",
       "      <td>spam</td>\n",
       "      <td>1</td>\n",
       "      <td>1</td>\n",
       "      <td>1</td>\n",
       "      <td>1</td>\n",
       "      <td>0</td>\n",
       "      <td>0</td>\n",
       "      <td>1</td>\n",
       "      <td>1</td>\n",
       "    </tr>\n",
       "    <tr>\n",
       "      <th>4</th>\n",
       "      <td>b'WINNER!! As a valued network customer you ha...</td>\n",
       "      <td>spam</td>\n",
       "      <td>1</td>\n",
       "      <td>1</td>\n",
       "      <td>2</td>\n",
       "      <td>1</td>\n",
       "      <td>0</td>\n",
       "      <td>0</td>\n",
       "      <td>1</td>\n",
       "      <td>1</td>\n",
       "    </tr>\n",
       "  </tbody>\n",
       "</table>\n",
       "</div>"
      ],
      "text/plain": [
       "                                     message_content spam_or_ham  spam  \\\n",
       "0  b'Urgent! call 09061749602 from Landline. Your...        spam     1   \n",
       "1  b'+449071512431 URGENT! This is the 2nd attemp...        spam     1   \n",
       "2  b'FREE for 1st week! No1 Nokia tone 4 ur mob e...        spam     1   \n",
       "3  b'Urgent! call 09066612661 from landline. Your...        spam     1   \n",
       "4  b'WINNER!! As a valued network customer you ha...        spam     1   \n",
       "\n",
       "   urgent  exclaim  free  number  website  explicit  shorted  \n",
       "0       1        1     1       0        0         1        1  \n",
       "1       1        1     1       0        0         1        1  \n",
       "2       1        1     1       0        1         1        1  \n",
       "3       1        1     1       0        0         1        1  \n",
       "4       1        2     1       0        0         1        1  "
      ]
     },
     "execution_count": 30,
     "metadata": {},
     "output_type": "execute_result"
    }
   ],
   "source": [
    "from sklearn.base import BaseEstimator,TransformerMixin\n",
    "\n",
    "def spam_or_not(data):\n",
    "    if data == \"spam\":\n",
    "        return 1\n",
    "    else:\n",
    "        return 0\n",
    "\n",
    "def urgent_detector(data):\n",
    "    if \"urgent\" or \"Urgent\" or \"URGENT\" in data:\n",
    "        return 1\n",
    "    else:\n",
    "        return 0\n",
    "\n",
    "def exclaimer(data):\n",
    "    if \"!\" in data:\n",
    "        if \"!!\" in data:\n",
    "            return 2\n",
    "        else:\n",
    "            return 1      \n",
    "    else:\n",
    "        return 0 \n",
    "\n",
    "def free_detector(data):\n",
    "    if \"free\" or \"Free\" or \"FREE\" in data:\n",
    "        return 1\n",
    "    else:\n",
    "        return 0\n",
    "\n",
    "def web_detector(data):\n",
    "    if \"www\" in data:\n",
    "        return 1\n",
    "    else:\n",
    "        return 0\n",
    "    \n",
    "def shorted(data):\n",
    "    if \"u\" or \"ur\" or \"b4\" in data:\n",
    "        return 1\n",
    "    else:\n",
    "        return 0 \n",
    "    \n",
    "spam['exclaim'] = spam['message_content'].apply(exclaimer)     \n",
    "spam['urgent'] = spam['message_content'].apply(urgent_detector)    \n",
    "spam['free'] = spam['message_content'].apply(free_detector) \n",
    "spam['website'] = spam['message_content'].apply(web_detector)\n",
    "spam['spam'] = spam['spam_or_ham'].apply(spam_or_not)\n",
    "spam.head()"
   ]
  },
  {
   "cell_type": "code",
   "execution_count": 32,
   "metadata": {},
   "outputs": [
    {
     "data": {
      "text/plain": [
       "spam        1.000000\n",
       "exclaim     0.429325\n",
       "website     0.309856\n",
       "urgent           NaN\n",
       "free             NaN\n",
       "number           NaN\n",
       "explicit         NaN\n",
       "shorted          NaN\n",
       "Name: spam, dtype: float64"
      ]
     },
     "execution_count": 32,
     "metadata": {},
     "output_type": "execute_result"
    }
   ],
   "source": [
    "corr_spam = spam.corr()\n",
    "corr_spam[\"spam\"].sort_values(ascending=False)"
   ]
  },
  {
   "cell_type": "code",
   "execution_count": null,
   "metadata": {},
   "outputs": [],
   "source": [
    "import seaborn as sns\n",
    "import "
   ]
  },
  {
   "cell_type": "markdown",
   "metadata": {},
   "source": [
    "    #Train-test split on english_big"
   ]
  }
 ],
 "metadata": {
  "kernelspec": {
   "display_name": "Python 3",
   "language": "python",
   "name": "python3"
  },
  "language_info": {
   "codemirror_mode": {
    "name": "ipython",
    "version": 3
   },
   "file_extension": ".py",
   "mimetype": "text/x-python",
   "name": "python",
   "nbconvert_exporter": "python",
   "pygments_lexer": "ipython3",
   "version": "3.6.5"
  }
 },
 "nbformat": 4,
 "nbformat_minor": 2
}
