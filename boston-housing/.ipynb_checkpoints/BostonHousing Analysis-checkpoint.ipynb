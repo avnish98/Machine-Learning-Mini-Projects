{
 "cells": [
  {
   "cell_type": "markdown",
   "metadata": {},
   "source": [
    "# EDA (come back when you know about decision tree for randomised cross validation)"
   ]
  },
  {
   "cell_type": "code",
   "execution_count": 112,
   "metadata": {},
   "outputs": [],
   "source": [
    "import pandas as pd\n",
    "from sklearn.datasets import load_boston"
   ]
  },
  {
   "cell_type": "code",
   "execution_count": 113,
   "metadata": {},
   "outputs": [],
   "source": [
    "boston = load_boston()"
   ]
  },
  {
   "cell_type": "code",
   "execution_count": 114,
   "metadata": {},
   "outputs": [
    {
     "name": "stdout",
     "output_type": "stream",
     "text": [
      "dict_keys(['data', 'target', 'feature_names', 'DESCR'])\n"
     ]
    }
   ],
   "source": [
    "print(boston.keys())"
   ]
  },
  {
   "cell_type": "code",
   "execution_count": 115,
   "metadata": {},
   "outputs": [
    {
     "name": "stdout",
     "output_type": "stream",
     "text": [
      "(506, 13)\n"
     ]
    }
   ],
   "source": [
    "print(boston.data.shape)"
   ]
  },
  {
   "cell_type": "code",
   "execution_count": 116,
   "metadata": {},
   "outputs": [
    {
     "name": "stdout",
     "output_type": "stream",
     "text": [
      "Boston House Prices dataset\n",
      "===========================\n",
      "\n",
      "Notes\n",
      "------\n",
      "Data Set Characteristics:  \n",
      "\n",
      "    :Number of Instances: 506 \n",
      "\n",
      "    :Number of Attributes: 13 numeric/categorical predictive\n",
      "    \n",
      "    :Median Value (attribute 14) is usually the target\n",
      "\n",
      "    :Attribute Information (in order):\n",
      "        - CRIM     per capita crime rate by town\n",
      "        - ZN       proportion of residential land zoned for lots over 25,000 sq.ft.\n",
      "        - INDUS    proportion of non-retail business acres per town\n",
      "        - CHAS     Charles River dummy variable (= 1 if tract bounds river; 0 otherwise)\n",
      "        - NOX      nitric oxides concentration (parts per 10 million)\n",
      "        - RM       average number of rooms per dwelling\n",
      "        - AGE      proportion of owner-occupied units built prior to 1940\n",
      "        - DIS      weighted distances to five Boston employment centres\n",
      "        - RAD      index of accessibility to radial highways\n",
      "        - TAX      full-value property-tax rate per $10,000\n",
      "        - PTRATIO  pupil-teacher ratio by town\n",
      "        - B        1000(Bk - 0.63)^2 where Bk is the proportion of blacks by town\n",
      "        - LSTAT    % lower status of the population\n",
      "        - MEDV     Median value of owner-occupied homes in $1000's\n",
      "\n",
      "    :Missing Attribute Values: None\n",
      "\n",
      "    :Creator: Harrison, D. and Rubinfeld, D.L.\n",
      "\n",
      "This is a copy of UCI ML housing dataset.\n",
      "http://archive.ics.uci.edu/ml/datasets/Housing\n",
      "\n",
      "\n",
      "This dataset was taken from the StatLib library which is maintained at Carnegie Mellon University.\n",
      "\n",
      "The Boston house-price data of Harrison, D. and Rubinfeld, D.L. 'Hedonic\n",
      "prices and the demand for clean air', J. Environ. Economics & Management,\n",
      "vol.5, 81-102, 1978.   Used in Belsley, Kuh & Welsch, 'Regression diagnostics\n",
      "...', Wiley, 1980.   N.B. Various transformations are used in the table on\n",
      "pages 244-261 of the latter.\n",
      "\n",
      "The Boston house-price data has been used in many machine learning papers that address regression\n",
      "problems.   \n",
      "     \n",
      "**References**\n",
      "\n",
      "   - Belsley, Kuh & Welsch, 'Regression diagnostics: Identifying Influential Data and Sources of Collinearity', Wiley, 1980. 244-261.\n",
      "   - Quinlan,R. (1993). Combining Instance-Based and Model-Based Learning. In Proceedings on the Tenth International Conference of Machine Learning, 236-243, University of Massachusetts, Amherst. Morgan Kaufmann.\n",
      "   - many more! (see http://archive.ics.uci.edu/ml/datasets/Housing)\n",
      "\n"
     ]
    }
   ],
   "source": [
    "print(boston.DESCR)"
   ]
  },
  {
   "cell_type": "code",
   "execution_count": 117,
   "metadata": {},
   "outputs": [
    {
     "data": {
      "text/html": [
       "<div>\n",
       "<style scoped>\n",
       "    .dataframe tbody tr th:only-of-type {\n",
       "        vertical-align: middle;\n",
       "    }\n",
       "\n",
       "    .dataframe tbody tr th {\n",
       "        vertical-align: top;\n",
       "    }\n",
       "\n",
       "    .dataframe thead th {\n",
       "        text-align: right;\n",
       "    }\n",
       "</style>\n",
       "<table border=\"1\" class=\"dataframe\">\n",
       "  <thead>\n",
       "    <tr style=\"text-align: right;\">\n",
       "      <th></th>\n",
       "      <th>index</th>\n",
       "      <th>CRIM</th>\n",
       "      <th>ZN</th>\n",
       "      <th>INDUS</th>\n",
       "      <th>CHAS</th>\n",
       "      <th>NOX</th>\n",
       "      <th>RM</th>\n",
       "      <th>AGE</th>\n",
       "      <th>DIS</th>\n",
       "      <th>RAD</th>\n",
       "      <th>TAX</th>\n",
       "      <th>PTRATIO</th>\n",
       "      <th>B</th>\n",
       "      <th>LSTAT</th>\n",
       "    </tr>\n",
       "  </thead>\n",
       "  <tbody>\n",
       "    <tr>\n",
       "      <th>0</th>\n",
       "      <td>0</td>\n",
       "      <td>0.00632</td>\n",
       "      <td>18.0</td>\n",
       "      <td>2.31</td>\n",
       "      <td>0.0</td>\n",
       "      <td>0.538</td>\n",
       "      <td>6.575</td>\n",
       "      <td>65.2</td>\n",
       "      <td>4.0900</td>\n",
       "      <td>1.0</td>\n",
       "      <td>296.0</td>\n",
       "      <td>15.3</td>\n",
       "      <td>396.90</td>\n",
       "      <td>4.98</td>\n",
       "    </tr>\n",
       "    <tr>\n",
       "      <th>1</th>\n",
       "      <td>1</td>\n",
       "      <td>0.02731</td>\n",
       "      <td>0.0</td>\n",
       "      <td>7.07</td>\n",
       "      <td>0.0</td>\n",
       "      <td>0.469</td>\n",
       "      <td>6.421</td>\n",
       "      <td>78.9</td>\n",
       "      <td>4.9671</td>\n",
       "      <td>2.0</td>\n",
       "      <td>242.0</td>\n",
       "      <td>17.8</td>\n",
       "      <td>396.90</td>\n",
       "      <td>9.14</td>\n",
       "    </tr>\n",
       "    <tr>\n",
       "      <th>2</th>\n",
       "      <td>2</td>\n",
       "      <td>0.02729</td>\n",
       "      <td>0.0</td>\n",
       "      <td>7.07</td>\n",
       "      <td>0.0</td>\n",
       "      <td>0.469</td>\n",
       "      <td>7.185</td>\n",
       "      <td>61.1</td>\n",
       "      <td>4.9671</td>\n",
       "      <td>2.0</td>\n",
       "      <td>242.0</td>\n",
       "      <td>17.8</td>\n",
       "      <td>392.83</td>\n",
       "      <td>4.03</td>\n",
       "    </tr>\n",
       "    <tr>\n",
       "      <th>3</th>\n",
       "      <td>3</td>\n",
       "      <td>0.03237</td>\n",
       "      <td>0.0</td>\n",
       "      <td>2.18</td>\n",
       "      <td>0.0</td>\n",
       "      <td>0.458</td>\n",
       "      <td>6.998</td>\n",
       "      <td>45.8</td>\n",
       "      <td>6.0622</td>\n",
       "      <td>3.0</td>\n",
       "      <td>222.0</td>\n",
       "      <td>18.7</td>\n",
       "      <td>394.63</td>\n",
       "      <td>2.94</td>\n",
       "    </tr>\n",
       "    <tr>\n",
       "      <th>4</th>\n",
       "      <td>4</td>\n",
       "      <td>0.06905</td>\n",
       "      <td>0.0</td>\n",
       "      <td>2.18</td>\n",
       "      <td>0.0</td>\n",
       "      <td>0.458</td>\n",
       "      <td>7.147</td>\n",
       "      <td>54.2</td>\n",
       "      <td>6.0622</td>\n",
       "      <td>3.0</td>\n",
       "      <td>222.0</td>\n",
       "      <td>18.7</td>\n",
       "      <td>396.90</td>\n",
       "      <td>5.33</td>\n",
       "    </tr>\n",
       "  </tbody>\n",
       "</table>\n",
       "</div>"
      ],
      "text/plain": [
       "   index     CRIM    ZN  INDUS  CHAS    NOX     RM   AGE     DIS  RAD    TAX  \\\n",
       "0      0  0.00632  18.0   2.31   0.0  0.538  6.575  65.2  4.0900  1.0  296.0   \n",
       "1      1  0.02731   0.0   7.07   0.0  0.469  6.421  78.9  4.9671  2.0  242.0   \n",
       "2      2  0.02729   0.0   7.07   0.0  0.469  7.185  61.1  4.9671  2.0  242.0   \n",
       "3      3  0.03237   0.0   2.18   0.0  0.458  6.998  45.8  6.0622  3.0  222.0   \n",
       "4      4  0.06905   0.0   2.18   0.0  0.458  7.147  54.2  6.0622  3.0  222.0   \n",
       "\n",
       "   PTRATIO       B  LSTAT  \n",
       "0     15.3  396.90   4.98  \n",
       "1     17.8  396.90   9.14  \n",
       "2     17.8  392.83   4.03  \n",
       "3     18.7  394.63   2.94  \n",
       "4     18.7  396.90   5.33  "
      ]
     },
     "execution_count": 117,
     "metadata": {},
     "output_type": "execute_result"
    }
   ],
   "source": [
    "import pandas as pd\n",
    "boston_df = pd.DataFrame(boston.data, columns= boston.feature_names).reset_index()\n",
    "boston_df.head()"
   ]
  },
  {
   "cell_type": "code",
   "execution_count": 118,
   "metadata": {},
   "outputs": [
    {
     "name": "stdout",
     "output_type": "stream",
     "text": [
      "<class 'pandas.core.frame.DataFrame'>\n",
      "RangeIndex: 506 entries, 0 to 505\n",
      "Data columns (total 14 columns):\n",
      "index      506 non-null int64\n",
      "CRIM       506 non-null float64\n",
      "ZN         506 non-null float64\n",
      "INDUS      506 non-null float64\n",
      "CHAS       506 non-null float64\n",
      "NOX        506 non-null float64\n",
      "RM         506 non-null float64\n",
      "AGE        506 non-null float64\n",
      "DIS        506 non-null float64\n",
      "RAD        506 non-null float64\n",
      "TAX        506 non-null float64\n",
      "PTRATIO    506 non-null float64\n",
      "B          506 non-null float64\n",
      "LSTAT      506 non-null float64\n",
      "dtypes: float64(13), int64(1)\n",
      "memory usage: 55.4 KB\n"
     ]
    }
   ],
   "source": [
    "boston_df.info()"
   ]
  },
  {
   "cell_type": "markdown",
   "metadata": {},
   "source": [
    "**RM** and **ZM** shows postive linear correlation with Median Value, whereas **LSTAT** and **PTRATIO** show strong negative correlation with Median Value"
   ]
  },
  {
   "cell_type": "code",
   "execution_count": 119,
   "metadata": {},
   "outputs": [
    {
     "data": {
      "text/plain": [
       "Median Value    1.000000\n",
       "RM              0.695360\n",
       "ZN              0.360445\n",
       "B               0.333461\n",
       "DIS             0.249929\n",
       "CHAS            0.175260\n",
       "index          -0.226604\n",
       "AGE            -0.376955\n",
       "RAD            -0.381626\n",
       "CRIM           -0.385832\n",
       "NOX            -0.427321\n",
       "TAX            -0.468536\n",
       "INDUS          -0.483725\n",
       "PTRATIO        -0.507787\n",
       "LSTAT          -0.737663\n",
       "Name: Median Value, dtype: float64"
      ]
     },
     "execution_count": 119,
     "metadata": {},
     "output_type": "execute_result"
    }
   ],
   "source": [
    "boston_target = pd.DataFrame(boston.target).reset_index()\n",
    "boston_target.columns = [\"index\",\"Median Value\"]\n",
    "boston_full = pd.merge(left=boston_df, right=boston_target,  on=\"index\")\n",
    "\n",
    "corr_boston = boston_full.corr()\n",
    "corr_boston[\"Median Value\"].sort_values(ascending=False)"
   ]
  },
  {
   "cell_type": "code",
   "execution_count": 120,
   "metadata": {},
   "outputs": [
    {
     "data": {
      "text/html": [
       "<div>\n",
       "<style scoped>\n",
       "    .dataframe tbody tr th:only-of-type {\n",
       "        vertical-align: middle;\n",
       "    }\n",
       "\n",
       "    .dataframe tbody tr th {\n",
       "        vertical-align: top;\n",
       "    }\n",
       "\n",
       "    .dataframe thead th {\n",
       "        text-align: right;\n",
       "    }\n",
       "</style>\n",
       "<table border=\"1\" class=\"dataframe\">\n",
       "  <thead>\n",
       "    <tr style=\"text-align: right;\">\n",
       "      <th></th>\n",
       "      <th>index</th>\n",
       "      <th>CRIM</th>\n",
       "      <th>ZN</th>\n",
       "      <th>INDUS</th>\n",
       "      <th>CHAS</th>\n",
       "      <th>NOX</th>\n",
       "      <th>RM</th>\n",
       "      <th>AGE</th>\n",
       "      <th>DIS</th>\n",
       "      <th>RAD</th>\n",
       "      <th>TAX</th>\n",
       "      <th>PTRATIO</th>\n",
       "      <th>B</th>\n",
       "      <th>LSTAT</th>\n",
       "      <th>Median Value</th>\n",
       "    </tr>\n",
       "  </thead>\n",
       "  <tbody>\n",
       "    <tr>\n",
       "      <th>0</th>\n",
       "      <td>0</td>\n",
       "      <td>0.00632</td>\n",
       "      <td>18.0</td>\n",
       "      <td>2.31</td>\n",
       "      <td>0.0</td>\n",
       "      <td>0.538</td>\n",
       "      <td>6.575</td>\n",
       "      <td>65.2</td>\n",
       "      <td>4.0900</td>\n",
       "      <td>1.0</td>\n",
       "      <td>296.0</td>\n",
       "      <td>15.3</td>\n",
       "      <td>396.90</td>\n",
       "      <td>4.98</td>\n",
       "      <td>24.0</td>\n",
       "    </tr>\n",
       "    <tr>\n",
       "      <th>1</th>\n",
       "      <td>1</td>\n",
       "      <td>0.02731</td>\n",
       "      <td>0.0</td>\n",
       "      <td>7.07</td>\n",
       "      <td>0.0</td>\n",
       "      <td>0.469</td>\n",
       "      <td>6.421</td>\n",
       "      <td>78.9</td>\n",
       "      <td>4.9671</td>\n",
       "      <td>2.0</td>\n",
       "      <td>242.0</td>\n",
       "      <td>17.8</td>\n",
       "      <td>396.90</td>\n",
       "      <td>9.14</td>\n",
       "      <td>21.6</td>\n",
       "    </tr>\n",
       "    <tr>\n",
       "      <th>2</th>\n",
       "      <td>2</td>\n",
       "      <td>0.02729</td>\n",
       "      <td>0.0</td>\n",
       "      <td>7.07</td>\n",
       "      <td>0.0</td>\n",
       "      <td>0.469</td>\n",
       "      <td>7.185</td>\n",
       "      <td>61.1</td>\n",
       "      <td>4.9671</td>\n",
       "      <td>2.0</td>\n",
       "      <td>242.0</td>\n",
       "      <td>17.8</td>\n",
       "      <td>392.83</td>\n",
       "      <td>4.03</td>\n",
       "      <td>34.7</td>\n",
       "    </tr>\n",
       "    <tr>\n",
       "      <th>3</th>\n",
       "      <td>3</td>\n",
       "      <td>0.03237</td>\n",
       "      <td>0.0</td>\n",
       "      <td>2.18</td>\n",
       "      <td>0.0</td>\n",
       "      <td>0.458</td>\n",
       "      <td>6.998</td>\n",
       "      <td>45.8</td>\n",
       "      <td>6.0622</td>\n",
       "      <td>3.0</td>\n",
       "      <td>222.0</td>\n",
       "      <td>18.7</td>\n",
       "      <td>394.63</td>\n",
       "      <td>2.94</td>\n",
       "      <td>33.4</td>\n",
       "    </tr>\n",
       "    <tr>\n",
       "      <th>4</th>\n",
       "      <td>4</td>\n",
       "      <td>0.06905</td>\n",
       "      <td>0.0</td>\n",
       "      <td>2.18</td>\n",
       "      <td>0.0</td>\n",
       "      <td>0.458</td>\n",
       "      <td>7.147</td>\n",
       "      <td>54.2</td>\n",
       "      <td>6.0622</td>\n",
       "      <td>3.0</td>\n",
       "      <td>222.0</td>\n",
       "      <td>18.7</td>\n",
       "      <td>396.90</td>\n",
       "      <td>5.33</td>\n",
       "      <td>36.2</td>\n",
       "    </tr>\n",
       "  </tbody>\n",
       "</table>\n",
       "</div>"
      ],
      "text/plain": [
       "   index     CRIM    ZN  INDUS  CHAS    NOX     RM   AGE     DIS  RAD    TAX  \\\n",
       "0      0  0.00632  18.0   2.31   0.0  0.538  6.575  65.2  4.0900  1.0  296.0   \n",
       "1      1  0.02731   0.0   7.07   0.0  0.469  6.421  78.9  4.9671  2.0  242.0   \n",
       "2      2  0.02729   0.0   7.07   0.0  0.469  7.185  61.1  4.9671  2.0  242.0   \n",
       "3      3  0.03237   0.0   2.18   0.0  0.458  6.998  45.8  6.0622  3.0  222.0   \n",
       "4      4  0.06905   0.0   2.18   0.0  0.458  7.147  54.2  6.0622  3.0  222.0   \n",
       "\n",
       "   PTRATIO       B  LSTAT  Median Value  \n",
       "0     15.3  396.90   4.98          24.0  \n",
       "1     17.8  396.90   9.14          21.6  \n",
       "2     17.8  392.83   4.03          34.7  \n",
       "3     18.7  394.63   2.94          33.4  \n",
       "4     18.7  396.90   5.33          36.2  "
      ]
     },
     "execution_count": 120,
     "metadata": {},
     "output_type": "execute_result"
    }
   ],
   "source": [
    "boston_full.head()"
   ]
  },
  {
   "cell_type": "code",
   "execution_count": 121,
   "metadata": {},
   "outputs": [
    {
     "data": {
      "image/png": "[encoded data removed]",
      "text/plain": [
       "<Figure size 1080x576 with 2 Axes>"
      ]
     },
     "metadata": {},
     "output_type": "display_data"
    }
   ],
   "source": [
    "%matplotlib inline\n",
    "import seaborn as sns\n",
    "import matplotlib.pyplot as plt\n",
    "plt.figure(figsize=(15,8))\n",
    "sns.heatmap(corr_boston)\n",
    "plt.show()"
   ]
  },
  {
   "cell_type": "markdown",
   "metadata": {},
   "source": [
    "# Prepeartion of Data"
   ]
  },
  {
   "cell_type": "code",
   "execution_count": 122,
   "metadata": {},
   "outputs": [
    {
     "data": {
      "text/plain": [
       "(404, 14)"
      ]
     },
     "execution_count": 122,
     "metadata": {},
     "output_type": "execute_result"
    }
   ],
   "source": [
    "from sklearn.model_selection import train_test_split\n",
    "boston_full.drop(\"index\", axis=1, inplace=True)\n",
    "boston_train, boston_test = train_test_split(boston_full, test_size=0.2)\n",
    "boston_train.shape"
   ]
  },
  {
   "cell_type": "markdown",
   "metadata": {},
   "source": [
    "# Trying Models"
   ]
  },
  {
   "cell_type": "markdown",
   "metadata": {},
   "source": [
    "## Linear Regression"
   ]
  },
  {
   "cell_type": "code",
   "execution_count": 123,
   "metadata": {},
   "outputs": [
    {
     "name": "stdout",
     "output_type": "stream",
     "text": [
      "5.800143313705474\n"
     ]
    }
   ],
   "source": [
    "from sklearn.linear_model import LinearRegression\n",
    "\n",
    "X = boston_train.drop(\"Median Value\", axis=1)\n",
    "y = boston_train[\"Median Value\"]\n",
    "\n",
    "lin_reg = LinearRegression()\n",
    "lin_reg = lin_reg.fit(X,y)\n",
    "\n",
    "some_data = boston_full.drop(\"Median Value\", axis=1).iloc[:5]\n",
    "some_labels = boston_full[\"Median Value\"].iloc[:5]\n",
    "\n",
    "predictions_reg = lin_reg.predict(some_data)\n",
    "\n",
    "from sklearn.metrics import mean_squared_error\n",
    "import numpy as np\n",
    "\n",
    "mse_reg = mean_squared_error(some_labels, predictions_reg) # Cost function (Lower is better)\n",
    "rmse_reg = np.sqrt(mse_reg)\n",
    "print(rmse_reg)"
   ]
  },
  {
   "cell_type": "code",
   "execution_count": 124,
   "metadata": {},
   "outputs": [
    {
     "name": "stdout",
     "output_type": "stream",
     "text": [
      "[4.35490409 8.2313575  5.83713556 3.61312591 6.26297609 5.56486291\n",
      " 3.35513073 3.43944798 4.42362423 4.20534789]\n",
      "MEAN: 4.928791288920098\n",
      "STD: 1.4645854738041495\n"
     ]
    }
   ],
   "source": [
    "#KFold cross validation\n",
    "\n",
    "from sklearn.model_selection import cross_val_score\n",
    "\n",
    "scores_reg = cross_val_score(lin_reg, X, y, scoring=\"neg_mean_squared_error\", cv=10) #negative mean squared error is a \n",
    "                                                                                 #utility function (greater is better)\n",
    "rmse_scores_reg = np.sqrt(-scores_reg)\n",
    "print(rmse_scores_reg)\n",
    "print(\"MEAN: {}\".format(rmse_scores_reg.mean()))\n",
    "print(\"STD: {}\".format(rmse_scores_reg.std()))"
   ]
  },
  {
   "cell_type": "markdown",
   "metadata": {},
   "source": [
    "## Decision Tree ( Best Fit)"
   ]
  },
  {
   "cell_type": "code",
   "execution_count": 125,
   "metadata": {
    "scrolled": true
   },
   "outputs": [
    {
     "name": "stdout",
     "output_type": "stream",
     "text": [
      "2.1019038988498018\n"
     ]
    }
   ],
   "source": [
    "from sklearn.tree import DecisionTreeRegressor\n",
    "\n",
    "tree = DecisionTreeRegressor()\n",
    "tree = tree.fit(X, y)\n",
    "\n",
    "predictions_tree = tree.predict(some_data)\n",
    "\n",
    "mse_tree = mean_squared_error(some_labels, predictions_tree)\n",
    "rmse_tree = np.sqrt(mse_tree)\n",
    "print(rmse_tree)"
   ]
  },
  {
   "cell_type": "code",
   "execution_count": 126,
   "metadata": {},
   "outputs": [
    {
     "name": "stdout",
     "output_type": "stream",
     "text": [
      "[3.94121437 8.85195307 4.36700489 4.76511715 4.41112231 6.00866042\n",
      " 3.2394444  3.81021653 4.87534614 3.83975911]\n",
      "MEAN: 4.810983838180977\n",
      "STD: 1.526373550635135\n"
     ]
    }
   ],
   "source": [
    "#KFold cross validation\n",
    "\n",
    "from sklearn.model_selection import cross_val_score\n",
    "\n",
    "scores_tree = cross_val_score(tree, X, y, scoring=\"neg_mean_squared_error\", cv=10)\n",
    "\n",
    "rmse_scores_tree = np.sqrt(-scores_tree)\n",
    "print(rmse_scores_tree)\n",
    "print(\"MEAN: {}\".format(rmse_scores_tree.mean()))\n",
    "print(\"STD: {}\".format(rmse_scores_tree.std()))"
   ]
  },
  {
   "cell_type": "markdown",
   "metadata": {},
   "source": [
    "## Support Vector Regression"
   ]
  },
  {
   "cell_type": "code",
   "execution_count": 127,
   "metadata": {},
   "outputs": [
    {
     "name": "stdout",
     "output_type": "stream",
     "text": [
      "9.713988462362204\n"
     ]
    }
   ],
   "source": [
    "from sklearn.svm import SVR\n",
    "\n",
    "svr = SVR()\n",
    "svr = svr.fit(X,y)\n",
    "\n",
    "predictions_svr = svr.predict(some_data)\n",
    "\n",
    "mse_svr = mean_squared_error(some_labels, predictions_svr)\n",
    "rmse_svr = np.sqrt(mse_svr)\n",
    "print(rmse_svr)"
   ]
  },
  {
   "cell_type": "code",
   "execution_count": 128,
   "metadata": {},
   "outputs": [
    {
     "name": "stdout",
     "output_type": "stream",
     "text": [
      "[ 7.82241447 10.95226615 11.52344582  8.5593041  10.70365493 10.25920084\n",
      "  7.10645114  7.00227343  8.83879575  7.89522075]\n",
      "MEAN: 9.06630273730369\n",
      "STD: 1.5819946762450423\n"
     ]
    }
   ],
   "source": [
    "#KFold cross validation\n",
    "\n",
    "from sklearn.model_selection import cross_val_score\n",
    "\n",
    "scores_svr = cross_val_score(svr, X, y, scoring=\"neg_mean_squared_error\", cv=10)\n",
    "\n",
    "rmse_scores_svr = np.sqrt(-scores_svr)\n",
    "print(rmse_scores_svr)\n",
    "print(\"MEAN: {}\".format(rmse_scores_svr.mean()))\n",
    "print(\"STD: {}\".format(rmse_scores_svr.std()))"
   ]
  },
  {
   "cell_type": "markdown",
   "metadata": {},
   "source": [
    "## Random Forest Regression (2nd Best Fit) (Results vary alot)"
   ]
  },
  {
   "cell_type": "code",
   "execution_count": 129,
   "metadata": {},
   "outputs": [
    {
     "name": "stdout",
     "output_type": "stream",
     "text": [
      "1.3396716015501704\n"
     ]
    }
   ],
   "source": [
    "from sklearn.ensemble import RandomForestRegressor\n",
    "\n",
    "forest = RandomForestRegressor()\n",
    "forest = forest.fit(X, y)\n",
    "\n",
    "predictions_forest = forest.predict(some_data)\n",
    "\n",
    "mse_forest = mean_squared_error(some_labels, predictions_forest)\n",
    "rmse_forest = np.sqrt(mse_forest)\n",
    "print(rmse_forest)"
   ]
  },
  {
   "cell_type": "code",
   "execution_count": 130,
   "metadata": {},
   "outputs": [
    {
     "name": "stdout",
     "output_type": "stream",
     "text": [
      "[2.84050622 8.20415362 3.28017623 3.39033094 3.58565928 3.56495582\n",
      " 2.83823272 3.08299449 3.11152575 2.95310091]\n",
      "MEAN: 3.685163599309462\n",
      "STD: 1.5282305015398454\n"
     ]
    }
   ],
   "source": [
    "#KFold cross validation\n",
    "\n",
    "from sklearn.model_selection import cross_val_score\n",
    "\n",
    "scores_forest = cross_val_score(forest, X, y, scoring=\"neg_mean_squared_error\", cv=10)\n",
    "\n",
    "rmse_scores_forest = np.sqrt(-scores_forest)\n",
    "print(rmse_scores_forest)\n",
    "print(\"MEAN: {}\".format(rmse_scores_forest.mean()))\n",
    "print(\"STD: {}\".format(rmse_scores_forest.std()))"
   ]
  },
  {
   "cell_type": "markdown",
   "metadata": {},
   "source": [
    "# Pickling two best models, hyperparameters, training data, training labels, predicitons, scores"
   ]
  },
  {
   "cell_type": "code",
   "execution_count": 131,
   "metadata": {},
   "outputs": [],
   "source": [
    "#This function pickles the ML models (Could've been done using classes)\n",
    "def pickler(name, model, predictions, training_data, training_label=None, cross_val_score=None, **kwargs):\n",
    "    \n",
    "    #Making dicitonary\n",
    "    import numpy as np\n",
    "    pickle_dict = {}\n",
    "    pickle_name = name+\".pickle\"\n",
    "    pickle_dict[\"ML Model\"] = model\n",
    "    pickle_dict[\"Predictions\"] = np.array(predictions)\n",
    "    pickle_dict[\"Training Data\"] = np.array(training_data)\n",
    "    pickle_dict[\"Training Labels\"] = np.array(training_label)\n",
    "    for key, value in kwargs.items():\n",
    "        pickle_dict[key] = value\n",
    "    \n",
    "    #Pickling the dictionary\n",
    "    from sklearn.externals import joblib\n",
    "    joblib.dump(pickle_dict, pickle_name)\n",
    "\n",
    "pickler(\"random-forest\", forest, predictions_forest, X, y, scores_forest, rmse_scores = rmse_scores_forest, \n",
    "       rmse_mean = rmse_scores_forest.mean(),rmse_std = rmse_scores_forest.std() ) \n",
    "pickler(\"decision-tree(best)\", tree, predictions_tree, X, y, scores_tree, rmse_scores = rmse_scores_tree, \n",
    "       rmse_mean = rmse_scores_tree.mean(),rmse_std = rmse_scores_tree.std() ) "
   ]
  },
  {
   "cell_type": "code",
   "execution_count": 132,
   "metadata": {},
   "outputs": [
    {
     "data": {
      "text/plain": [
       "{'ML Model': DecisionTreeRegressor(criterion='mse', max_depth=None, max_features=None,\n",
       "            max_leaf_nodes=None, min_impurity_decrease=0.0,\n",
       "            min_impurity_split=None, min_samples_leaf=1,\n",
       "            min_samples_split=2, min_weight_fraction_leaf=0.0,\n",
       "            presort=False, random_state=None, splitter='best'),\n",
       " 'Predictions': array([28.7, 21.6, 34.7, 33.4, 36.2]),\n",
       " 'Training Data': array([[8.20058e+00, 0.00000e+00, 1.81000e+01, ..., 2.02000e+01,\n",
       "         3.50000e+00, 1.69400e+01],\n",
       "        [4.81213e+00, 0.00000e+00, 1.81000e+01, ..., 2.02000e+01,\n",
       "         2.55230e+02, 1.64200e+01],\n",
       "        [6.46600e-02, 7.00000e+01, 2.24000e+00, ..., 1.48000e+01,\n",
       "         3.68240e+02, 4.97000e+00],\n",
       "        ...,\n",
       "        [6.80117e+00, 0.00000e+00, 1.81000e+01, ..., 2.02000e+01,\n",
       "         3.96900e+02, 1.47000e+01],\n",
       "        [9.25200e-02, 3.00000e+01, 4.93000e+00, ..., 1.66000e+01,\n",
       "         3.83780e+02, 7.37000e+00],\n",
       "        [7.84200e-01, 0.00000e+00, 8.14000e+00, ..., 2.10000e+01,\n",
       "         3.86750e+02, 1.46700e+01]]),\n",
       " 'Training Labels': array([13.5, 16.4, 22.5, 23. , 20.3, 24.5,  7. , 22.9, 18.2, 50. , 21.7,\n",
       "        18.2, 20.5, 13.8, 16.1, 24.7, 13.6,  9.7, 17.7, 20.3, 26.5, 28.4,\n",
       "        12.7, 17.1, 21.2, 28.1, 34.9, 22. , 35.1, 19.1, 23.7, 11.9, 28. ,\n",
       "        24.4, 37.3, 17.5, 24.6, 16. , 16.2, 27.5, 16.7, 24.1, 19.3, 17.8,\n",
       "        18.5, 18.9, 17.6, 17.2,  8.1, 18.5, 21. , 32.5, 23.1, 24.6, 33. ,\n",
       "        17.4, 50. , 24.8, 29.1, 23.8, 14.5, 13.3, 22.1, 19.2, 29. ,  7.4,\n",
       "        30.1, 21.4, 25. , 50. , 12.8, 10.5, 50. , 23. , 30.1,  7.2, 13.9,\n",
       "        13.3, 50. , 28.2, 21.4, 19.5, 37.2, 13.1, 13.4, 42.8, 43.8, 38.7,\n",
       "        15. , 23.2, 19.8, 13.1, 19.9, 22.8, 22.3, 23.1, 21.7, 33.2, 30.7,\n",
       "        14.1, 21.1, 31.1, 20.6, 46. , 33.1, 18.4, 21.7,  7.5, 37.9, 50. ,\n",
       "        36. , 46.7, 32.4, 23.3, 30.3, 19.6, 20.4, 23.1, 15.2, 15.1, 18. ,\n",
       "        10.8, 14.6, 13.8, 37. , 28.7,  8.8, 25. , 15.2, 48.8, 19.6, 23.7,\n",
       "        25. , 19.5, 10.2, 33.1, 18.8, 23. , 21.6, 19.1, 19.3, 14.1, 36.2,\n",
       "        17.5, 27.1, 28.7, 24.5, 23.8, 33.4, 20.5, 28.6, 15. ,  5. , 34.6,\n",
       "        22.6, 14.9, 34.9, 21.4, 29.4, 18.7, 17.8, 18.3, 24.4, 23.3, 21. ,\n",
       "        12.5, 13.2, 13.4, 17.8, 27.5, 35.2,  5. , 35.4, 17.1, 27.9, 22. ,\n",
       "        22.2, 22.4, 50. , 11.3, 24.3, 22. , 15.3, 50. , 20.9, 22.6, 10.5,\n",
       "        20.1, 50. , 23.2,  8.4, 15.6, 23.2, 19.8, 14.9, 44. , 17.3, 13.8,\n",
       "        15.6, 13.4, 23.4, 17.9, 16.5, 22.8, 14.3, 20.6, 20.5, 21.9, 32.9,\n",
       "        16.8, 23.6,  5.6, 18.9, 20.1, 20.6, 20.4, 14.3, 17.1, 20. ,  7.2,\n",
       "        25. , 31.5, 10.4, 36.4, 23.9, 12.6, 19.1, 21.2, 34.7, 21.4,  8.5,\n",
       "        13.8, 35.4, 15.7, 29.6, 50. , 16.5,  6.3, 23.7, 23.2, 50. , 28.4,\n",
       "        42.3, 21.7, 48.5, 24. , 22.2, 19.7, 22.8, 20.4, 23.1, 22.6, 19.4,\n",
       "        24.3, 18.9, 13.4, 23.1,  8.8, 23.9, 18.6, 16.7, 18.9, 30.1, 17.2,\n",
       "        19.9, 10.9, 21. , 17.4, 19.4, 11.8, 15. , 34.9, 14.9, 25.1, 15.6,\n",
       "        27.5,  8.4, 22.7, 22.9, 23.9, 30.8, 29.6, 19.7, 16.1, 14.4, 22.9,\n",
       "         8.7, 15.4, 23.8, 24.4, 20.7, 21.5, 11. , 26.2, 15.6, 20.3,  8.3,\n",
       "        29. , 19.4, 24.8, 14.2, 24.1, 22. , 37.6, 32.2, 16.1, 16.6, 20.6,\n",
       "        20.6,  9.6, 22.8, 24.5, 24.1, 20. , 23.9, 11.8, 16.6, 25.3, 16.2,\n",
       "        18.3, 21.6, 43.5, 18.7, 23.4, 26.7, 26.4, 31. , 22.5, 23.6, 19.3,\n",
       "        22. , 50. , 20.2, 29.9, 33.4, 22.2, 18.6, 20.1, 28.7, 22.5, 23. ,\n",
       "        19.6, 36.5,  7. , 19.9, 20.4, 21.2, 25. , 20.8, 17.8, 21.4, 41.7,\n",
       "        50. , 18.4, 20.2, 21.2, 19.1, 23.8, 20. , 17.8, 31.5, 21.5, 22.9,\n",
       "        27. , 13.1, 26.4, 23.9, 12.7, 11.9, 27.5, 28.5, 19.9, 50. , 20.8,\n",
       "        21.9, 23.7, 19.3, 18.7, 39.8, 29.1, 13.9, 21.8, 21.8, 32. , 19.3,\n",
       "        23.1, 11.7, 13.8, 14.6, 24.7, 14.1, 20.8, 32. ,  7.2, 18.1, 26.6,\n",
       "        26.6, 17. , 19.6, 22.7, 31.2, 20. , 23.3, 17.5]),\n",
       " 'rmse_mean': 4.810983838180977,\n",
       " 'rmse_scores': array([3.94121437, 8.85195307, 4.36700489, 4.76511715, 4.41112231,\n",
       "        6.00866042, 3.2394444 , 3.81021653, 4.87534614, 3.83975911]),\n",
       " 'rmse_std': 1.526373550635135}"
      ]
     },
     "execution_count": 132,
     "metadata": {},
     "output_type": "execute_result"
    }
   ],
   "source": [
    "joblib.load(\"decision-tree(best).pickle\")"
   ]
  },
  {
   "cell_type": "markdown",
   "metadata": {},
   "source": [
    "# Fine Tuning Model"
   ]
  },
  {
   "cell_type": "markdown",
   "metadata": {},
   "source": [
    "### Grid Search"
   ]
  },
  {
   "cell_type": "code",
   "execution_count": 133,
   "metadata": {},
   "outputs": [
    {
     "data": {
      "text/plain": [
       "GridSearchCV(cv=5, error_score='raise',\n",
       "       estimator=RandomForestRegressor(bootstrap=True, criterion='mse', max_depth=None,\n",
       "           max_features='auto', max_leaf_nodes=None,\n",
       "           min_impurity_decrease=0.0, min_impurity_split=None,\n",
       "           min_samples_leaf=1, min_samples_split=2,\n",
       "           min_weight_fraction_leaf=0.0, n_estimators=10, n_jobs=1,\n",
       "           oob_score=False, random_state=None, verbose=0, warm_start=False),\n",
       "       fit_params=None, iid=True, n_jobs=1,\n",
       "       param_grid=[{'n_estimators': [3, 10, 30], 'max_features': [2, 4, 6, 8]}, {'bootstrap': [False], 'n_estimators': [3, 10], 'max_features': [2, 3, 4]}],\n",
       "       pre_dispatch='2*n_jobs', refit=True, return_train_score='warn',\n",
       "       scoring='neg_mean_squared_error', verbose=0)"
      ]
     },
     "execution_count": 133,
     "metadata": {},
     "output_type": "execute_result"
    }
   ],
   "source": [
    "from sklearn.model_selection import GridSearchCV\n",
    "\n",
    "param_grid = [\n",
    "{'n_estimators': [3, 10, 30], 'max_features': [2, 4, 6, 8]},\n",
    "{'bootstrap': [False], 'n_estimators': [3, 10], 'max_features': [2, 3, 4]},\n",
    "]\n",
    "\n",
    "forest_reg = RandomForestRegressor()\n",
    "\n",
    "grid_search = GridSearchCV(forest_reg, param_grid, cv=5, scoring=\"neg_mean_squared_error\")\n",
    "\n",
    "grid_search.fit(X, y)\n"
   ]
  },
  {
   "cell_type": "code",
   "execution_count": 134,
   "metadata": {},
   "outputs": [
    {
     "data": {
      "text/plain": [
       "{'max_features': 6, 'n_estimators': 30}"
      ]
     },
     "execution_count": 134,
     "metadata": {},
     "output_type": "execute_result"
    }
   ],
   "source": [
    "grid_search.best_params_"
   ]
  },
  {
   "cell_type": "code",
   "execution_count": 135,
   "metadata": {},
   "outputs": [
    {
     "data": {
      "text/plain": [
       "RandomForestRegressor(bootstrap=True, criterion='mse', max_depth=None,\n",
       "           max_features=6, max_leaf_nodes=None, min_impurity_decrease=0.0,\n",
       "           min_impurity_split=None, min_samples_leaf=1,\n",
       "           min_samples_split=2, min_weight_fraction_leaf=0.0,\n",
       "           n_estimators=30, n_jobs=1, oob_score=False, random_state=None,\n",
       "           verbose=0, warm_start=False)"
      ]
     },
     "execution_count": 135,
     "metadata": {},
     "output_type": "execute_result"
    }
   ],
   "source": [
    "grid_search.best_estimator_"
   ]
  },
  {
   "cell_type": "code",
   "execution_count": 136,
   "metadata": {},
   "outputs": [
    {
     "name": "stdout",
     "output_type": "stream",
     "text": [
      "4.61990212012765 {'max_features': 2, 'n_estimators': 3}\n",
      "4.375746725524753 {'max_features': 2, 'n_estimators': 10}\n",
      "3.830480428732993 {'max_features': 2, 'n_estimators': 30}\n",
      "4.550589306485879 {'max_features': 4, 'n_estimators': 3}\n",
      "4.0135939488367045 {'max_features': 4, 'n_estimators': 10}\n",
      "3.8393140172708358 {'max_features': 4, 'n_estimators': 30}\n",
      "4.118482449855648 {'max_features': 6, 'n_estimators': 3}\n",
      "4.071182534316383 {'max_features': 6, 'n_estimators': 10}\n",
      "3.707872704732385 {'max_features': 6, 'n_estimators': 30}\n",
      "4.04886645642434 {'max_features': 8, 'n_estimators': 3}\n",
      "4.031777026337023 {'max_features': 8, 'n_estimators': 10}\n",
      "3.7555862352363887 {'max_features': 8, 'n_estimators': 30}\n",
      "4.37240383445184 {'bootstrap': False, 'max_features': 2, 'n_estimators': 3}\n",
      "4.17462983609647 {'bootstrap': False, 'max_features': 2, 'n_estimators': 10}\n",
      "4.3793994067584645 {'bootstrap': False, 'max_features': 3, 'n_estimators': 3}\n",
      "4.018747341898941 {'bootstrap': False, 'max_features': 3, 'n_estimators': 10}\n",
      "4.18792793324305 {'bootstrap': False, 'max_features': 4, 'n_estimators': 3}\n",
      "3.8675783607106946 {'bootstrap': False, 'max_features': 4, 'n_estimators': 10}\n"
     ]
    }
   ],
   "source": [
    "# To get complete result sheet\n",
    "cvres = grid_search.cv_results_\n",
    "for mean_score, params in zip(cvres[\"mean_test_score\"], cvres[\"params\"]):\n",
    "    print(np.sqrt(-mean_score), params)"
   ]
  },
  {
   "cell_type": "markdown",
   "metadata": {},
   "source": [
    "### Random Search\n",
    "The grid search approach is fine when you are exploring relatively few combinations, like in the previous\n",
    "example, but when the hyperparameter search space is large, it is often preferable to use\n",
    "RandomizedSearchCV instead. This class can be used in much the same way as the GridSearchCV class,\n",
    "but instead of trying out all possible combinations, it evaluates a given number of random combinations\n",
    "by selecting a random value for each hyperparameter at every iteration. This approach has two main\n",
    "benefits:\n",
    "If you let the randomized search run for, say, 1,000 iterations, this approach will explore 1,000\n",
    "different values for each hyperparameter (instead of just a few values per hyperparameter with the\n",
    "grid search approach).\n",
    "You have more control over the computing budget you want to allocate to hyperparameter search,\n",
    "simply by setting the number of iterations."
   ]
  },
  {
   "cell_type": "markdown",
   "metadata": {},
   "source": [
    "#### Feature importance"
   ]
  },
  {
   "cell_type": "code",
   "execution_count": 137,
   "metadata": {},
   "outputs": [
    {
     "data": {
      "text/plain": [
       "array([0.0579199 , 0.00462452, 0.04606345, 0.00473501, 0.04639854,\n",
       "       0.38385281, 0.01904996, 0.08084146, 0.00434111, 0.02487069,\n",
       "       0.02504257, 0.01965111, 0.28260886])"
      ]
     },
     "execution_count": 137,
     "metadata": {},
     "output_type": "execute_result"
    }
   ],
   "source": [
    "feature_importances = grid_search.best_estimator_.feature_importances_\n",
    "feature_importances"
   ]
  },
  {
   "cell_type": "code",
   "execution_count": 138,
   "metadata": {},
   "outputs": [
    {
     "data": {
      "text/plain": [
       "[(0.3838528103717681, 'RM'),\n",
       " (0.28260885745347186, 'LSTAT'),\n",
       " (0.08084146405888432, 'DIS'),\n",
       " (0.05791989797371668, 'CRIM'),\n",
       " (0.04639854185003865, 'NOX'),\n",
       " (0.04606345199294141, 'INDUS'),\n",
       " (0.0250425693562356, 'PTRATIO'),\n",
       " (0.024870692314161513, 'TAX'),\n",
       " (0.019651111181564058, 'B'),\n",
       " (0.019049963621535975, 'AGE'),\n",
       " (0.004735012195152752, 'CHAS'),\n",
       " (0.004624519325760035, 'ZN'),\n",
       " (0.004341108304768961, 'RAD')]"
      ]
     },
     "execution_count": 138,
     "metadata": {},
     "output_type": "execute_result"
    }
   ],
   "source": [
    "sorted(zip(feature_importances, boston.feature_names), reverse=True) "
   ]
  },
  {
   "cell_type": "markdown",
   "metadata": {},
   "source": [
    "# Testing on test set (Needs Fine Tuning)"
   ]
  },
  {
   "cell_type": "code",
   "execution_count": 143,
   "metadata": {},
   "outputs": [
    {
     "data": {
      "text/plain": [
       "5.567121620483507"
      ]
     },
     "execution_count": 143,
     "metadata": {},
     "output_type": "execute_result"
    }
   ],
   "source": [
    "test_data = boston_test.drop(\"Median Value\", axis=1)\n",
    "test_labels = boston_test[\"Median Value\"]\n",
    "\n",
    "test_predictions = tree.predict(test_data)\n",
    "\n",
    "final_mse = mean_squared_error(test_labels, test_predictions)\n",
    "final_rmse = np.sqrt(final_mse)\n",
    "\n",
    "final_rmse"
   ]
  }
 ],
 "metadata": {
  "kernelspec": {
   "display_name": "Python 3",
   "language": "python",
   "name": "python3"
  },
  "language_info": {
   "codemirror_mode": {
    "name": "ipython",
    "version": 3
   },
   "file_extension": ".py",
   "mimetype": "text/x-python",
   "name": "python",
   "nbconvert_exporter": "python",
   "pygments_lexer": "ipython3",
   "version": "3.6.5"
  }
 },
 "nbformat": 4,
 "nbformat_minor": 2
}
