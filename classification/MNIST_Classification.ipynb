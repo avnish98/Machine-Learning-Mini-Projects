{
  "nbformat": 4,
  "nbformat_minor": 0,
  "metadata": {
    "colab": {
      "name": "MNIST Classification.ipynb",
      "version": "0.3.2",
      "provenance": [],
      "collapsed_sections": [
        "oEdPAFFSSxeM",
        "mEarYBCXTB7l"
      ]
    },
    "kernelspec": {
      "name": "python3",
      "display_name": "Python 3"
    }
  },
  "cells": [
    {
      "cell_type": "code",
      "metadata": {
        "id": "UfCbwE2ngHny",
        "colab_type": "code",
        "colab": {}
      },
      "source": [
        "import warnings\n",
        "warnings.simplefilter(action='ignore', category=FutureWarning)"
      ],
      "execution_count": 0,
      "outputs": []
    },
    {
      "cell_type": "markdown",
      "metadata": {
        "id": "7vRbY2iMQHRw",
        "colab_type": "text"
      },
      "source": [
        "# Get data\n",
        "\n",
        "MNIST data consists of images of 70000 handwritten images.  \n",
        "It is often called \"Hello World\" of ML.\n"
      ]
    },
    {
      "cell_type": "code",
      "metadata": {
        "id": "Cfa1VQeKP0J8",
        "colab_type": "code",
        "outputId": "67a88c17-323f-4dad-8a2c-c067d7fea55b",
        "colab": {
          "base_uri": "https://localhost:8080/",
          "height": 445
        }
      },
      "source": [
        "from sklearn.datasets import fetch_mldata\n",
        "\n",
        "mnist = fetch_mldata(\"MNIST original\")\n",
        "mnist"
      ],
      "execution_count": 0,
      "outputs": [
        {
          "output_type": "stream",
          "text": [
            "/usr/local/lib/python3.6/dist-packages/sklearn/utils/deprecation.py:85: DeprecationWarning: Function fetch_mldata is deprecated; fetch_mldata was deprecated in version 0.20 and will be removed in version 0.22. Please use fetch_openml.\n",
            "  warnings.warn(msg, category=DeprecationWarning)\n",
            "/usr/local/lib/python3.6/dist-packages/sklearn/utils/deprecation.py:85: DeprecationWarning: Function mldata_filename is deprecated; mldata_filename was deprecated in version 0.20 and will be removed in version 0.22. Please use fetch_openml.\n",
            "  warnings.warn(msg, category=DeprecationWarning)\n"
          ],
          "name": "stderr"
        },
        {
          "output_type": "error",
          "ename": "ConnectionResetError",
          "evalue": "ignored",
          "traceback": [
            "\u001b[0;31m---------------------------------------------------------------------------\u001b[0m",
            "\u001b[0;31mConnectionResetError\u001b[0m                      Traceback (most recent call last)",
            "\u001b[0;32m<ipython-input-2-6afce67bc73f>\u001b[0m in \u001b[0;36m<module>\u001b[0;34m()\u001b[0m\n\u001b[1;32m      1\u001b[0m \u001b[0;32mfrom\u001b[0m \u001b[0msklearn\u001b[0m\u001b[0;34m.\u001b[0m\u001b[0mdatasets\u001b[0m \u001b[0;32mimport\u001b[0m \u001b[0mfetch_mldata\u001b[0m\u001b[0;34m\u001b[0m\u001b[0;34m\u001b[0m\u001b[0m\n\u001b[1;32m      2\u001b[0m \u001b[0;34m\u001b[0m\u001b[0m\n\u001b[0;32m----> 3\u001b[0;31m \u001b[0mmnist\u001b[0m \u001b[0;34m=\u001b[0m \u001b[0mfetch_mldata\u001b[0m\u001b[0;34m(\u001b[0m\u001b[0;34m\"MNIST original\"\u001b[0m\u001b[0;34m)\u001b[0m\u001b[0;34m\u001b[0m\u001b[0;34m\u001b[0m\u001b[0m\n\u001b[0m\u001b[1;32m      4\u001b[0m \u001b[0mmnist\u001b[0m\u001b[0;34m\u001b[0m\u001b[0;34m\u001b[0m\u001b[0m\n",
            "\u001b[0;32m/usr/local/lib/python3.6/dist-packages/sklearn/utils/deprecation.py\u001b[0m in \u001b[0;36mwrapped\u001b[0;34m(*args, **kwargs)\u001b[0m\n\u001b[1;32m     84\u001b[0m         \u001b[0;32mdef\u001b[0m \u001b[0mwrapped\u001b[0m\u001b[0;34m(\u001b[0m\u001b[0;34m*\u001b[0m\u001b[0margs\u001b[0m\u001b[0;34m,\u001b[0m \u001b[0;34m**\u001b[0m\u001b[0mkwargs\u001b[0m\u001b[0;34m)\u001b[0m\u001b[0;34m:\u001b[0m\u001b[0;34m\u001b[0m\u001b[0;34m\u001b[0m\u001b[0m\n\u001b[1;32m     85\u001b[0m             \u001b[0mwarnings\u001b[0m\u001b[0;34m.\u001b[0m\u001b[0mwarn\u001b[0m\u001b[0;34m(\u001b[0m\u001b[0mmsg\u001b[0m\u001b[0;34m,\u001b[0m \u001b[0mcategory\u001b[0m\u001b[0;34m=\u001b[0m\u001b[0mDeprecationWarning\u001b[0m\u001b[0;34m)\u001b[0m\u001b[0;34m\u001b[0m\u001b[0;34m\u001b[0m\u001b[0m\n\u001b[0;32m---> 86\u001b[0;31m             \u001b[0;32mreturn\u001b[0m \u001b[0mfun\u001b[0m\u001b[0;34m(\u001b[0m\u001b[0;34m*\u001b[0m\u001b[0margs\u001b[0m\u001b[0;34m,\u001b[0m \u001b[0;34m**\u001b[0m\u001b[0mkwargs\u001b[0m\u001b[0;34m)\u001b[0m\u001b[0;34m\u001b[0m\u001b[0;34m\u001b[0m\u001b[0m\n\u001b[0m\u001b[1;32m     87\u001b[0m \u001b[0;34m\u001b[0m\u001b[0m\n\u001b[1;32m     88\u001b[0m         \u001b[0mwrapped\u001b[0m\u001b[0;34m.\u001b[0m\u001b[0m__doc__\u001b[0m \u001b[0;34m=\u001b[0m \u001b[0mself\u001b[0m\u001b[0;34m.\u001b[0m\u001b[0m_update_doc\u001b[0m\u001b[0;34m(\u001b[0m\u001b[0mwrapped\u001b[0m\u001b[0;34m.\u001b[0m\u001b[0m__doc__\u001b[0m\u001b[0;34m)\u001b[0m\u001b[0;34m\u001b[0m\u001b[0;34m\u001b[0m\u001b[0m\n",
            "\u001b[0;32m/usr/local/lib/python3.6/dist-packages/sklearn/datasets/mldata.py\u001b[0m in \u001b[0;36mfetch_mldata\u001b[0;34m(dataname, target_name, data_name, transpose_data, data_home)\u001b[0m\n\u001b[1;32m    124\u001b[0m         \u001b[0murlname\u001b[0m \u001b[0;34m=\u001b[0m \u001b[0mMLDATA_BASE_URL\u001b[0m \u001b[0;34m%\u001b[0m \u001b[0mquote\u001b[0m\u001b[0;34m(\u001b[0m\u001b[0mdataname\u001b[0m\u001b[0;34m)\u001b[0m\u001b[0;34m\u001b[0m\u001b[0;34m\u001b[0m\u001b[0m\n\u001b[1;32m    125\u001b[0m         \u001b[0;32mtry\u001b[0m\u001b[0;34m:\u001b[0m\u001b[0;34m\u001b[0m\u001b[0;34m\u001b[0m\u001b[0m\n\u001b[0;32m--> 126\u001b[0;31m             \u001b[0mmldata_url\u001b[0m \u001b[0;34m=\u001b[0m \u001b[0murlopen\u001b[0m\u001b[0;34m(\u001b[0m\u001b[0murlname\u001b[0m\u001b[0;34m)\u001b[0m\u001b[0;34m\u001b[0m\u001b[0;34m\u001b[0m\u001b[0m\n\u001b[0m\u001b[1;32m    127\u001b[0m         \u001b[0;32mexcept\u001b[0m \u001b[0mHTTPError\u001b[0m \u001b[0;32mas\u001b[0m \u001b[0me\u001b[0m\u001b[0;34m:\u001b[0m\u001b[0;34m\u001b[0m\u001b[0;34m\u001b[0m\u001b[0m\n\u001b[1;32m    128\u001b[0m             \u001b[0;32mif\u001b[0m \u001b[0me\u001b[0m\u001b[0;34m.\u001b[0m\u001b[0mcode\u001b[0m \u001b[0;34m==\u001b[0m \u001b[0;36m404\u001b[0m\u001b[0;34m:\u001b[0m\u001b[0;34m\u001b[0m\u001b[0;34m\u001b[0m\u001b[0m\n",
            "\u001b[0;32m/usr/lib/python3.6/urllib/request.py\u001b[0m in \u001b[0;36murlopen\u001b[0;34m(url, data, timeout, cafile, capath, cadefault, context)\u001b[0m\n\u001b[1;32m    221\u001b[0m     \u001b[0;32melse\u001b[0m\u001b[0;34m:\u001b[0m\u001b[0;34m\u001b[0m\u001b[0;34m\u001b[0m\u001b[0m\n\u001b[1;32m    222\u001b[0m         \u001b[0mopener\u001b[0m \u001b[0;34m=\u001b[0m \u001b[0m_opener\u001b[0m\u001b[0;34m\u001b[0m\u001b[0;34m\u001b[0m\u001b[0m\n\u001b[0;32m--> 223\u001b[0;31m     \u001b[0;32mreturn\u001b[0m \u001b[0mopener\u001b[0m\u001b[0;34m.\u001b[0m\u001b[0mopen\u001b[0m\u001b[0;34m(\u001b[0m\u001b[0murl\u001b[0m\u001b[0;34m,\u001b[0m \u001b[0mdata\u001b[0m\u001b[0;34m,\u001b[0m \u001b[0mtimeout\u001b[0m\u001b[0;34m)\u001b[0m\u001b[0;34m\u001b[0m\u001b[0;34m\u001b[0m\u001b[0m\n\u001b[0m\u001b[1;32m    224\u001b[0m \u001b[0;34m\u001b[0m\u001b[0m\n\u001b[1;32m    225\u001b[0m \u001b[0;32mdef\u001b[0m \u001b[0minstall_opener\u001b[0m\u001b[0;34m(\u001b[0m\u001b[0mopener\u001b[0m\u001b[0;34m)\u001b[0m\u001b[0;34m:\u001b[0m\u001b[0;34m\u001b[0m\u001b[0;34m\u001b[0m\u001b[0m\n",
            "\u001b[0;32m/usr/lib/python3.6/urllib/request.py\u001b[0m in \u001b[0;36mopen\u001b[0;34m(self, fullurl, data, timeout)\u001b[0m\n\u001b[1;32m    524\u001b[0m             \u001b[0mreq\u001b[0m \u001b[0;34m=\u001b[0m \u001b[0mmeth\u001b[0m\u001b[0;34m(\u001b[0m\u001b[0mreq\u001b[0m\u001b[0;34m)\u001b[0m\u001b[0;34m\u001b[0m\u001b[0;34m\u001b[0m\u001b[0m\n\u001b[1;32m    525\u001b[0m \u001b[0;34m\u001b[0m\u001b[0m\n\u001b[0;32m--> 526\u001b[0;31m         \u001b[0mresponse\u001b[0m \u001b[0;34m=\u001b[0m \u001b[0mself\u001b[0m\u001b[0;34m.\u001b[0m\u001b[0m_open\u001b[0m\u001b[0;34m(\u001b[0m\u001b[0mreq\u001b[0m\u001b[0;34m,\u001b[0m \u001b[0mdata\u001b[0m\u001b[0;34m)\u001b[0m\u001b[0;34m\u001b[0m\u001b[0;34m\u001b[0m\u001b[0m\n\u001b[0m\u001b[1;32m    527\u001b[0m \u001b[0;34m\u001b[0m\u001b[0m\n\u001b[1;32m    528\u001b[0m         \u001b[0;31m# post-process response\u001b[0m\u001b[0;34m\u001b[0m\u001b[0;34m\u001b[0m\u001b[0;34m\u001b[0m\u001b[0m\n",
            "\u001b[0;32m/usr/lib/python3.6/urllib/request.py\u001b[0m in \u001b[0;36m_open\u001b[0;34m(self, req, data)\u001b[0m\n\u001b[1;32m    542\u001b[0m         \u001b[0mprotocol\u001b[0m \u001b[0;34m=\u001b[0m \u001b[0mreq\u001b[0m\u001b[0;34m.\u001b[0m\u001b[0mtype\u001b[0m\u001b[0;34m\u001b[0m\u001b[0;34m\u001b[0m\u001b[0m\n\u001b[1;32m    543\u001b[0m         result = self._call_chain(self.handle_open, protocol, protocol +\n\u001b[0;32m--> 544\u001b[0;31m                                   '_open', req)\n\u001b[0m\u001b[1;32m    545\u001b[0m         \u001b[0;32mif\u001b[0m \u001b[0mresult\u001b[0m\u001b[0;34m:\u001b[0m\u001b[0;34m\u001b[0m\u001b[0;34m\u001b[0m\u001b[0m\n\u001b[1;32m    546\u001b[0m             \u001b[0;32mreturn\u001b[0m \u001b[0mresult\u001b[0m\u001b[0;34m\u001b[0m\u001b[0;34m\u001b[0m\u001b[0m\n",
            "\u001b[0;32m/usr/lib/python3.6/urllib/request.py\u001b[0m in \u001b[0;36m_call_chain\u001b[0;34m(self, chain, kind, meth_name, *args)\u001b[0m\n\u001b[1;32m    502\u001b[0m         \u001b[0;32mfor\u001b[0m \u001b[0mhandler\u001b[0m \u001b[0;32min\u001b[0m \u001b[0mhandlers\u001b[0m\u001b[0;34m:\u001b[0m\u001b[0;34m\u001b[0m\u001b[0;34m\u001b[0m\u001b[0m\n\u001b[1;32m    503\u001b[0m             \u001b[0mfunc\u001b[0m \u001b[0;34m=\u001b[0m \u001b[0mgetattr\u001b[0m\u001b[0;34m(\u001b[0m\u001b[0mhandler\u001b[0m\u001b[0;34m,\u001b[0m \u001b[0mmeth_name\u001b[0m\u001b[0;34m)\u001b[0m\u001b[0;34m\u001b[0m\u001b[0;34m\u001b[0m\u001b[0m\n\u001b[0;32m--> 504\u001b[0;31m             \u001b[0mresult\u001b[0m \u001b[0;34m=\u001b[0m \u001b[0mfunc\u001b[0m\u001b[0;34m(\u001b[0m\u001b[0;34m*\u001b[0m\u001b[0margs\u001b[0m\u001b[0;34m)\u001b[0m\u001b[0;34m\u001b[0m\u001b[0;34m\u001b[0m\u001b[0m\n\u001b[0m\u001b[1;32m    505\u001b[0m             \u001b[0;32mif\u001b[0m \u001b[0mresult\u001b[0m \u001b[0;32mis\u001b[0m \u001b[0;32mnot\u001b[0m \u001b[0;32mNone\u001b[0m\u001b[0;34m:\u001b[0m\u001b[0;34m\u001b[0m\u001b[0;34m\u001b[0m\u001b[0m\n\u001b[1;32m    506\u001b[0m                 \u001b[0;32mreturn\u001b[0m \u001b[0mresult\u001b[0m\u001b[0;34m\u001b[0m\u001b[0;34m\u001b[0m\u001b[0m\n",
            "\u001b[0;32m/usr/lib/python3.6/urllib/request.py\u001b[0m in \u001b[0;36mhttp_open\u001b[0;34m(self, req)\u001b[0m\n\u001b[1;32m   1344\u001b[0m \u001b[0;34m\u001b[0m\u001b[0m\n\u001b[1;32m   1345\u001b[0m     \u001b[0;32mdef\u001b[0m \u001b[0mhttp_open\u001b[0m\u001b[0;34m(\u001b[0m\u001b[0mself\u001b[0m\u001b[0;34m,\u001b[0m \u001b[0mreq\u001b[0m\u001b[0;34m)\u001b[0m\u001b[0;34m:\u001b[0m\u001b[0;34m\u001b[0m\u001b[0;34m\u001b[0m\u001b[0m\n\u001b[0;32m-> 1346\u001b[0;31m         \u001b[0;32mreturn\u001b[0m \u001b[0mself\u001b[0m\u001b[0;34m.\u001b[0m\u001b[0mdo_open\u001b[0m\u001b[0;34m(\u001b[0m\u001b[0mhttp\u001b[0m\u001b[0;34m.\u001b[0m\u001b[0mclient\u001b[0m\u001b[0;34m.\u001b[0m\u001b[0mHTTPConnection\u001b[0m\u001b[0;34m,\u001b[0m \u001b[0mreq\u001b[0m\u001b[0;34m)\u001b[0m\u001b[0;34m\u001b[0m\u001b[0;34m\u001b[0m\u001b[0m\n\u001b[0m\u001b[1;32m   1347\u001b[0m \u001b[0;34m\u001b[0m\u001b[0m\n\u001b[1;32m   1348\u001b[0m     \u001b[0mhttp_request\u001b[0m \u001b[0;34m=\u001b[0m \u001b[0mAbstractHTTPHandler\u001b[0m\u001b[0;34m.\u001b[0m\u001b[0mdo_request_\u001b[0m\u001b[0;34m\u001b[0m\u001b[0;34m\u001b[0m\u001b[0m\n",
            "\u001b[0;32m/usr/lib/python3.6/urllib/request.py\u001b[0m in \u001b[0;36mdo_open\u001b[0;34m(self, http_class, req, **http_conn_args)\u001b[0m\n\u001b[1;32m   1319\u001b[0m             \u001b[0;32mexcept\u001b[0m \u001b[0mOSError\u001b[0m \u001b[0;32mas\u001b[0m \u001b[0merr\u001b[0m\u001b[0;34m:\u001b[0m \u001b[0;31m# timeout error\u001b[0m\u001b[0;34m\u001b[0m\u001b[0;34m\u001b[0m\u001b[0m\n\u001b[1;32m   1320\u001b[0m                 \u001b[0;32mraise\u001b[0m \u001b[0mURLError\u001b[0m\u001b[0;34m(\u001b[0m\u001b[0merr\u001b[0m\u001b[0;34m)\u001b[0m\u001b[0;34m\u001b[0m\u001b[0;34m\u001b[0m\u001b[0m\n\u001b[0;32m-> 1321\u001b[0;31m             \u001b[0mr\u001b[0m \u001b[0;34m=\u001b[0m \u001b[0mh\u001b[0m\u001b[0;34m.\u001b[0m\u001b[0mgetresponse\u001b[0m\u001b[0;34m(\u001b[0m\u001b[0;34m)\u001b[0m\u001b[0;34m\u001b[0m\u001b[0;34m\u001b[0m\u001b[0m\n\u001b[0m\u001b[1;32m   1322\u001b[0m         \u001b[0;32mexcept\u001b[0m\u001b[0;34m:\u001b[0m\u001b[0;34m\u001b[0m\u001b[0;34m\u001b[0m\u001b[0m\n\u001b[1;32m   1323\u001b[0m             \u001b[0mh\u001b[0m\u001b[0;34m.\u001b[0m\u001b[0mclose\u001b[0m\u001b[0;34m(\u001b[0m\u001b[0;34m)\u001b[0m\u001b[0;34m\u001b[0m\u001b[0;34m\u001b[0m\u001b[0m\n",
            "\u001b[0;32m/usr/lib/python3.6/http/client.py\u001b[0m in \u001b[0;36mgetresponse\u001b[0;34m(self)\u001b[0m\n\u001b[1;32m   1329\u001b[0m         \u001b[0;32mtry\u001b[0m\u001b[0;34m:\u001b[0m\u001b[0;34m\u001b[0m\u001b[0;34m\u001b[0m\u001b[0m\n\u001b[1;32m   1330\u001b[0m             \u001b[0;32mtry\u001b[0m\u001b[0;34m:\u001b[0m\u001b[0;34m\u001b[0m\u001b[0;34m\u001b[0m\u001b[0m\n\u001b[0;32m-> 1331\u001b[0;31m                 \u001b[0mresponse\u001b[0m\u001b[0;34m.\u001b[0m\u001b[0mbegin\u001b[0m\u001b[0;34m(\u001b[0m\u001b[0;34m)\u001b[0m\u001b[0;34m\u001b[0m\u001b[0;34m\u001b[0m\u001b[0m\n\u001b[0m\u001b[1;32m   1332\u001b[0m             \u001b[0;32mexcept\u001b[0m \u001b[0mConnectionError\u001b[0m\u001b[0;34m:\u001b[0m\u001b[0;34m\u001b[0m\u001b[0;34m\u001b[0m\u001b[0m\n\u001b[1;32m   1333\u001b[0m                 \u001b[0mself\u001b[0m\u001b[0;34m.\u001b[0m\u001b[0mclose\u001b[0m\u001b[0;34m(\u001b[0m\u001b[0;34m)\u001b[0m\u001b[0;34m\u001b[0m\u001b[0;34m\u001b[0m\u001b[0m\n",
            "\u001b[0;32m/usr/lib/python3.6/http/client.py\u001b[0m in \u001b[0;36mbegin\u001b[0;34m(self)\u001b[0m\n\u001b[1;32m    295\u001b[0m         \u001b[0;31m# read until we get a non-100 response\u001b[0m\u001b[0;34m\u001b[0m\u001b[0;34m\u001b[0m\u001b[0;34m\u001b[0m\u001b[0m\n\u001b[1;32m    296\u001b[0m         \u001b[0;32mwhile\u001b[0m \u001b[0;32mTrue\u001b[0m\u001b[0;34m:\u001b[0m\u001b[0;34m\u001b[0m\u001b[0;34m\u001b[0m\u001b[0m\n\u001b[0;32m--> 297\u001b[0;31m             \u001b[0mversion\u001b[0m\u001b[0;34m,\u001b[0m \u001b[0mstatus\u001b[0m\u001b[0;34m,\u001b[0m \u001b[0mreason\u001b[0m \u001b[0;34m=\u001b[0m \u001b[0mself\u001b[0m\u001b[0;34m.\u001b[0m\u001b[0m_read_status\u001b[0m\u001b[0;34m(\u001b[0m\u001b[0;34m)\u001b[0m\u001b[0;34m\u001b[0m\u001b[0;34m\u001b[0m\u001b[0m\n\u001b[0m\u001b[1;32m    298\u001b[0m             \u001b[0;32mif\u001b[0m \u001b[0mstatus\u001b[0m \u001b[0;34m!=\u001b[0m \u001b[0mCONTINUE\u001b[0m\u001b[0;34m:\u001b[0m\u001b[0;34m\u001b[0m\u001b[0;34m\u001b[0m\u001b[0m\n\u001b[1;32m    299\u001b[0m                 \u001b[0;32mbreak\u001b[0m\u001b[0;34m\u001b[0m\u001b[0;34m\u001b[0m\u001b[0m\n",
            "\u001b[0;32m/usr/lib/python3.6/http/client.py\u001b[0m in \u001b[0;36m_read_status\u001b[0;34m(self)\u001b[0m\n\u001b[1;32m    256\u001b[0m \u001b[0;34m\u001b[0m\u001b[0m\n\u001b[1;32m    257\u001b[0m     \u001b[0;32mdef\u001b[0m \u001b[0m_read_status\u001b[0m\u001b[0;34m(\u001b[0m\u001b[0mself\u001b[0m\u001b[0;34m)\u001b[0m\u001b[0;34m:\u001b[0m\u001b[0;34m\u001b[0m\u001b[0;34m\u001b[0m\u001b[0m\n\u001b[0;32m--> 258\u001b[0;31m         \u001b[0mline\u001b[0m \u001b[0;34m=\u001b[0m \u001b[0mstr\u001b[0m\u001b[0;34m(\u001b[0m\u001b[0mself\u001b[0m\u001b[0;34m.\u001b[0m\u001b[0mfp\u001b[0m\u001b[0;34m.\u001b[0m\u001b[0mreadline\u001b[0m\u001b[0;34m(\u001b[0m\u001b[0m_MAXLINE\u001b[0m \u001b[0;34m+\u001b[0m \u001b[0;36m1\u001b[0m\u001b[0;34m)\u001b[0m\u001b[0;34m,\u001b[0m \u001b[0;34m\"iso-8859-1\"\u001b[0m\u001b[0;34m)\u001b[0m\u001b[0;34m\u001b[0m\u001b[0;34m\u001b[0m\u001b[0m\n\u001b[0m\u001b[1;32m    259\u001b[0m         \u001b[0;32mif\u001b[0m \u001b[0mlen\u001b[0m\u001b[0;34m(\u001b[0m\u001b[0mline\u001b[0m\u001b[0;34m)\u001b[0m \u001b[0;34m>\u001b[0m \u001b[0m_MAXLINE\u001b[0m\u001b[0;34m:\u001b[0m\u001b[0;34m\u001b[0m\u001b[0;34m\u001b[0m\u001b[0m\n\u001b[1;32m    260\u001b[0m             \u001b[0;32mraise\u001b[0m \u001b[0mLineTooLong\u001b[0m\u001b[0;34m(\u001b[0m\u001b[0;34m\"status line\"\u001b[0m\u001b[0;34m)\u001b[0m\u001b[0;34m\u001b[0m\u001b[0;34m\u001b[0m\u001b[0m\n",
            "\u001b[0;32m/usr/lib/python3.6/socket.py\u001b[0m in \u001b[0;36mreadinto\u001b[0;34m(self, b)\u001b[0m\n\u001b[1;32m    584\u001b[0m         \u001b[0;32mwhile\u001b[0m \u001b[0;32mTrue\u001b[0m\u001b[0;34m:\u001b[0m\u001b[0;34m\u001b[0m\u001b[0;34m\u001b[0m\u001b[0m\n\u001b[1;32m    585\u001b[0m             \u001b[0;32mtry\u001b[0m\u001b[0;34m:\u001b[0m\u001b[0;34m\u001b[0m\u001b[0;34m\u001b[0m\u001b[0m\n\u001b[0;32m--> 586\u001b[0;31m                 \u001b[0;32mreturn\u001b[0m \u001b[0mself\u001b[0m\u001b[0;34m.\u001b[0m\u001b[0m_sock\u001b[0m\u001b[0;34m.\u001b[0m\u001b[0mrecv_into\u001b[0m\u001b[0;34m(\u001b[0m\u001b[0mb\u001b[0m\u001b[0;34m)\u001b[0m\u001b[0;34m\u001b[0m\u001b[0;34m\u001b[0m\u001b[0m\n\u001b[0m\u001b[1;32m    587\u001b[0m             \u001b[0;32mexcept\u001b[0m \u001b[0mtimeout\u001b[0m\u001b[0;34m:\u001b[0m\u001b[0;34m\u001b[0m\u001b[0;34m\u001b[0m\u001b[0m\n\u001b[1;32m    588\u001b[0m                 \u001b[0mself\u001b[0m\u001b[0;34m.\u001b[0m\u001b[0m_timeout_occurred\u001b[0m \u001b[0;34m=\u001b[0m \u001b[0;32mTrue\u001b[0m\u001b[0;34m\u001b[0m\u001b[0;34m\u001b[0m\u001b[0m\n",
            "\u001b[0;31mConnectionResetError\u001b[0m: [Errno 104] Connection reset by peer"
          ]
        }
      ]
    },
    {
      "cell_type": "markdown",
      "metadata": {
        "id": "2BCfL-e-QVGI",
        "colab_type": "text"
      },
      "source": [
        "DESCR : Description of dataset  \n",
        "data : Features (pixel intensity ranging from 0 to 255)  \n",
        "target: Label (digits)"
      ]
    },
    {
      "cell_type": "code",
      "metadata": {
        "id": "wn4eTJYtQmts",
        "colab_type": "code",
        "colab": {}
      },
      "source": [
        "X, y = mnist[\"data\"], mnist[\"target\"]\n",
        "X.shape"
      ],
      "execution_count": 0,
      "outputs": []
    },
    {
      "cell_type": "code",
      "metadata": {
        "id": "zrgBN9XMQGGs",
        "colab_type": "code",
        "colab": {}
      },
      "source": [
        "y.shape"
      ],
      "execution_count": 0,
      "outputs": []
    },
    {
      "cell_type": "markdown",
      "metadata": {
        "id": "qOvjuwdxRG5n",
        "colab_type": "text"
      },
      "source": [
        "## Displaying some random image"
      ]
    },
    {
      "cell_type": "code",
      "metadata": {
        "id": "IyYrna8BQzV3",
        "colab_type": "code",
        "colab": {}
      },
      "source": [
        "%matplotlib inline\n",
        "import matplotlib\n",
        "import matplotlib.pyplot as plt\n",
        "\n",
        "# Getting some random image \n",
        "img = X[60000]\n",
        "\n",
        "# Reshaping image into a 28x28 matrix\n",
        "img = img.reshape(28,28)\n",
        "\n",
        "# Displaying image using matplotlib\n",
        "plt.imshow(img, cmap= matplotlib.cm.binary, interpolation=\"nearest\")\n",
        "plt.axis(\"off\")\n",
        "plt.show()"
      ],
      "execution_count": 0,
      "outputs": []
    },
    {
      "cell_type": "code",
      "metadata": {
        "id": "BCU1DhUlRtDo",
        "colab_type": "code",
        "colab": {}
      },
      "source": [
        "y[60000] # Checking label of image above"
      ],
      "execution_count": 0,
      "outputs": []
    },
    {
      "cell_type": "code",
      "metadata": {
        "id": "BpzgaKDPgGsC",
        "colab_type": "code",
        "colab": {}
      },
      "source": [
        ""
      ],
      "execution_count": 0,
      "outputs": []
    },
    {
      "cell_type": "markdown",
      "metadata": {
        "id": "oEdPAFFSSxeM",
        "colab_type": "text"
      },
      "source": [
        "# Creating training and test set"
      ]
    },
    {
      "cell_type": "code",
      "metadata": {
        "id": "TZYh1kAaR0I3",
        "colab_type": "code",
        "colab": {}
      },
      "source": [
        "X_train , X_test = X[:60000], X[60000:]\n",
        "y_train , y_test = y[:60000], y[60000:]"
      ],
      "execution_count": 0,
      "outputs": []
    },
    {
      "cell_type": "markdown",
      "metadata": {
        "id": "mEarYBCXTB7l",
        "colab_type": "text"
      },
      "source": [
        "# Shuffling training set \n",
        "To ensure that every fold in CV has every digit and some algorithms perform worse when they get too many similar instances in row."
      ]
    },
    {
      "cell_type": "code",
      "metadata": {
        "id": "tVMtrv79TNb6",
        "colab_type": "code",
        "colab": {}
      },
      "source": [
        "import numpy as np\n",
        "\n",
        "# Creates a distribution from 0 to 60000, spread randomly\n",
        "shuffle_index = np.random.permutation(60000)\n",
        "\n",
        "X_train , y_train = X_train[shuffle_index], y_train[shuffle_index]"
      ],
      "execution_count": 0,
      "outputs": []
    },
    {
      "cell_type": "markdown",
      "metadata": {
        "id": "n8_wos3BUOvd",
        "colab_type": "text"
      },
      "source": [
        "# Binary classifier\n",
        "Now, we will create a **5 Detector** using Stochastic Gradient Descent Classifier. It can handle large dataset efficiently.  \n",
        "To use the classifier we have to import **SGDClassifier** from **sklearn.linear_model**"
      ]
    },
    {
      "cell_type": "code",
      "metadata": {
        "id": "49h8oyNuTuHL",
        "colab_type": "code",
        "colab": {}
      },
      "source": [
        "from sklearn.linear_model import SGDClassifier\n",
        "\n",
        "sgd = SGDClassifier(random_state=42) # Seeding random for reproducible results\n",
        "\n",
        "# Converting labels to booleans\n",
        "y_train5 = (y_train==5)\n",
        "y_test5 = (y_test==5)\n",
        "\n",
        "sgd = sgd.fit(X_train, y_train5)\n",
        "\n",
        "# Predicting label of digit visualized above\n",
        "print(sgd.predict([X[60000]]))"
      ],
      "execution_count": 0,
      "outputs": []
    },
    {
      "cell_type": "markdown",
      "metadata": {
        "id": "wJqb51OoVvW4",
        "colab_type": "text"
      },
      "source": [
        "Seems like binary classifier works well"
      ]
    },
    {
      "cell_type": "markdown",
      "metadata": {
        "id": "Vv7vFlG2bW3k",
        "colab_type": "text"
      },
      "source": [
        "# Performance Measures"
      ]
    },
    {
      "cell_type": "markdown",
      "metadata": {
        "id": "AR86f7gFclZL",
        "colab_type": "text"
      },
      "source": [
        "## Cross validation on Stratified data"
      ]
    },
    {
      "cell_type": "code",
      "metadata": {
        "id": "_qtwLNKBbZbK",
        "colab_type": "code",
        "colab": {}
      },
      "source": [
        "from sklearn.model_selection import StratifiedKFold\n",
        "from sklearn.base import clone\n",
        "\n",
        "# Creates 3 pairs of train-test set\n",
        "skfolds = StratifiedKFold(n_splits=3,random_state=42)\n",
        "\n",
        "for train_index,test_index in skfolds.split(X_train,y_train5):\n",
        "  \n",
        "  # Creates clone of SGD classifier\n",
        "  clone_clf = clone(sgd)\n",
        "  \n",
        "  # Training set (within CV)\n",
        "  X_train_folds = X_train[train_index]\n",
        "  y_train_folds = y_train5[train_index]\n",
        "  \n",
        "  # Validation set\n",
        "  X_test_fold = X_train[test_index]\n",
        "  y_test_fold = y_train5[test_index]\n",
        "  \n",
        "  # Training SGD classifier\n",
        "  clone_clf.fit(X_train_folds,y_train_folds)\n",
        "  \n",
        "  # Predictions\n",
        "  y_pred=clone_clf.predict(X_test_fold)\n",
        "  \n",
        "  # Number of Correct Predictions\n",
        "  n_correct=sum(y_pred==y_test_fold)\n",
        "  \n",
        "  # Accuracy = Number of Correct Predictions/ Total Predictions\n",
        "  print(n_correct/len(y_pred))"
      ],
      "execution_count": 0,
      "outputs": []
    },
    {
      "cell_type": "markdown",
      "metadata": {
        "id": "M7WWSOqucsRf",
        "colab_type": "text"
      },
      "source": [
        "Accuracy is pretty high for SGD classifier"
      ]
    },
    {
      "cell_type": "markdown",
      "metadata": {
        "id": "lUNDlFs5e6uA",
        "colab_type": "text"
      },
      "source": [
        " ## Normal Cross validation"
      ]
    },
    {
      "cell_type": "code",
      "metadata": {
        "id": "WyHkOXEue8X2",
        "colab_type": "code",
        "colab": {}
      },
      "source": [
        "from sklearn.model_selection import cross_val_score \n",
        "\n",
        "cv = cross_val_score(sgd, X_train, y_train5, cv=10, scoring=\"accuracy\")\n",
        "\n",
        "print(cv)\n",
        "print(\"Mean:{}\".format(np.mean(cv)))\n",
        "print(\"STD:{}\".format(np.std(cv)))"
      ],
      "execution_count": 0,
      "outputs": []
    },
    {
      "cell_type": "markdown",
      "metadata": {
        "id": "Sv8bD0_XgcJV",
        "colab_type": "text"
      },
      "source": [
        "The result is too optimistic but lets create a classifier that classifies every instance as \"not 5\"."
      ]
    },
    {
      "cell_type": "code",
      "metadata": {
        "id": "_Jp4APTNf6gw",
        "colab_type": "code",
        "colab": {}
      },
      "source": [
        "from sklearn.base import BaseEstimator, TransformerMixin\n",
        "\n",
        "class Never5(BaseEstimator, TransformerMixin):\n",
        "  \n",
        "  def __init__ (self):\n",
        "    pass\n",
        "  \n",
        "  def fit(self, X, y=None):\n",
        "    return self\n",
        "  \n",
        "  def predict(self, X):\n",
        "    \n",
        "    # Returns a boolean matrix of Zeros \n",
        "    return np.zeros((len(X),1), dtype=bool)\n",
        "  \n",
        "nev5 = Never5()\n",
        "\n",
        "\n",
        "cv = cross_val_score(nev5, X_train, y_train5, cv=10, scoring=\"accuracy\")\n",
        "\n",
        "print(cv)\n",
        "print(\"Mean:{}\".format(np.mean(cv)))\n",
        "print(\"STD:{}\".format(np.std(cv)))\n",
        "    "
      ],
      "execution_count": 0,
      "outputs": []
    },
    {
      "cell_type": "markdown",
      "metadata": {
        "id": "0K9vo2wchw3E",
        "colab_type": "text"
      },
      "source": [
        "Well, a dumb predictor can also have an accuracy of 90% because only 10% of instances are 5 (in real).  \n",
        "That is why accuracy is not right performance measure for classifiers for the dataset containing too many instances of one class."
      ]
    },
    {
      "cell_type": "markdown",
      "metadata": {
        "id": "DyUYxNIfzdPl",
        "colab_type": "text"
      },
      "source": [
        "## Other performance measures"
      ]
    },
    {
      "cell_type": "markdown",
      "metadata": {
        "id": "EPHb5YpLzhBU",
        "colab_type": "text"
      },
      "source": [
        "### Confusion matrix  \n",
        "\n",
        "A confusion matrix helps us identify how many times an instance is misclassified.  \n",
        "The rows are instances of data and columns are class.\n",
        "\n",
        "Scikit-learn's **cross_val_predict()** returns predictions rather than scores."
      ]
    },
    {
      "cell_type": "code",
      "metadata": {
        "id": "jIBEEZLo0AAs",
        "colab_type": "code",
        "colab": {}
      },
      "source": [
        "from sklearn.model_selection import cross_val_predict\n",
        "\n",
        "y_train_pred = cross_val_predict(sgd, X_train, y_train5, cv=3)"
      ],
      "execution_count": 0,
      "outputs": []
    },
    {
      "cell_type": "markdown",
      "metadata": {
        "id": "3CXRIJGx0Pby",
        "colab_type": "text"
      },
      "source": [
        "These predictions are *clean* as the classifier did not saw the data while prediction. To make a confusion matrix we just call **confusion_matrix()** from sklearn.metrics."
      ]
    },
    {
      "cell_type": "code",
      "metadata": {
        "id": "-Adv7ZVL0mxo",
        "colab_type": "code",
        "colab": {}
      },
      "source": [
        "from sklearn.metrics import confusion_matrix\n",
        "\n",
        "conf = confusion_matrix(y_train5, \n",
        "                        y_train_pred)\n",
        "\n",
        "conf"
      ],
      "execution_count": 0,
      "outputs": []
    },
    {
      "cell_type": "markdown",
      "metadata": {
        "id": "T1aZfFPn1Vzs",
        "colab_type": "text"
      },
      "source": [
        "The confusion matrix returns instances as \n",
        "$$\n",
        "\\begin{bmatrix} \n",
        "5\\ classified\\ as\\ 5 & 5\\ classified\\ as\\ Not5 \\\\\n",
        "Not5\\ classified\\ as\\ 5 & Not5\\ classified\\ as\\ Not5 \n",
        "\\end{bmatrix}\n",
        "$$\n",
        "\n",
        "The first column (5s) is the positive class. The first row in positive class is 5s correctly classfied as 5. Hence, **True Positives**.\n",
        "Second row in positive class is not5s misclassified as 5s. Hence, **False Positives**.\n",
        "\n",
        "Similarly, first and second row in negative class (second row) are **False Negatives** and **True Negatives**.\n",
        "\n",
        "The two metrics we can calculate from confusion matrix are **Precision** and **Recall**.\n",
        "\n",
        "The accuracy of positive predicition is called **Precision**.\n",
        "\n",
        "$$Precision = \\frac{True\\ Positives}{True\\ Positives + False\\ Positives}$$\n",
        "\n",
        "The True Positive rate i.e. how many true positves are detected in all the positive classifications is called **Recall**.\n",
        "\n",
        "$$Recall = \\frac{True\\ Positives}{True\\ Positives + False\\  Negatives}$$\n",
        "\n",
        "it is also known as *sensetivity*.\n",
        "\n",
        "On combining precision and recall we get **$F_1$ score**. It is the harmonic mean of precision and recall.\n",
        "\n",
        "$$F_{1} = \\frac{2}{\\frac{1}{precision}+\\frac{1}{recall}}$$\n",
        "\n",
        "$$ $$\n",
        "\n",
        "$$F_{1} = 2 \\times \\frac{precision \\times recall}{precision + recall}$$\n",
        "\n",
        "Value of $F_1$ score is higher when the value of both precision and recall is high but most of the times that is not the case. When you increase precision, recall decreases and when you increase recall, precision decreases. This is called *precision/recall tradeoff*."
      ]
    },
    {
      "cell_type": "code",
      "metadata": {
        "id": "0H-XCCh00zZ0",
        "colab_type": "code",
        "colab": {}
      },
      "source": [
        "from sklearn.metrics import precision_score, recall_score\n",
        "\n",
        "print(precision_score(y_train5, y_train_pred))\n",
        "\n",
        "print(recall_score(y_train5, y_train_pred))"
      ],
      "execution_count": 0,
      "outputs": []
    },
    {
      "cell_type": "code",
      "metadata": {
        "id": "6bUq_BN9E6ej",
        "colab_type": "code",
        "colab": {}
      },
      "source": [
        "from sklearn.metrics import f1_score\n",
        "\n",
        "print(f1_score(y_train5, y_train_pred))"
      ],
      "execution_count": 0,
      "outputs": []
    },
    {
      "cell_type": "markdown",
      "metadata": {
        "id": "99zaTFA7FJb_",
        "colab_type": "text"
      },
      "source": [
        "The **SGDClassifier** computes a score using decision function.If the score is above some threshold value then it is classified into positve class otherwise negative class.\n",
        "\n",
        "As the threshold value is increased, preicision increases but recall decreases.\n",
        "\n",
        "```classifier.decision_function(value)``` returns the decision score for that value."
      ]
    },
    {
      "cell_type": "code",
      "metadata": {
        "id": "x9vPCMEPFvuj",
        "colab_type": "code",
        "colab": {}
      },
      "source": [
        "some_digit = X[20000]\n",
        "\n",
        "dec_score = sgd.decision_function([some_digit])\n",
        "threshold = 0\n",
        "dec_class = dec_score > threshold\n",
        "print(\"When threshold is {} then it is a 5 : {}\".format(threshold, dec_class))\n",
        "\n",
        "threshold = 20000\n",
        "dec_class = dec_score > threshold\n",
        "print(\"When threshold is {} then it is a 5 : {}\".format(threshold, dec_class))"
      ],
      "execution_count": 0,
      "outputs": []
    },
    {
      "cell_type": "markdown",
      "metadata": {
        "id": "PHlQ0QNHIJW-",
        "colab_type": "text"
      },
      "source": [
        "To decide the value of thershold we have to look at precision/recall curve."
      ]
    },
    {
      "cell_type": "code",
      "metadata": {
        "id": "hGcjtkuPHfYJ",
        "colab_type": "code",
        "colab": {}
      },
      "source": [
        "from sklearn.model_selection import cross_val_predict\n",
        "\n",
        "# To get the decision scores of all the instances\n",
        "y_scores = cross_val_predict(sgd, X_train, y_train5, cv=3, \n",
        "                             method=\"decision_function\")\n",
        "\n",
        "from sklearn.metrics import precision_recall_curve\n",
        "\n",
        "precisions, recalls, thresholds = precision_recall_curve(y_train5, y_scores)\n",
        "\n",
        "plt.plot(thresholds, precisions[:-1], \"b--\", label=\"Precision\")\n",
        "plt.plot(thresholds, recalls[:-1], \"g--\", label=\"Recall\")\n",
        "plt.xlabel(\"Threshold\")\n",
        "plt.legend(loc=\"upper left\")\n",
        "plt.ylim([0,1])\n",
        "plt.show()"
      ],
      "execution_count": 0,
      "outputs": []
    },
    {
      "cell_type": "markdown",
      "metadata": {
        "id": "FX57VIr8JYnD",
        "colab_type": "text"
      },
      "source": [
        "Another way to decide threshold value is plot precision directly against recall."
      ]
    },
    {
      "cell_type": "code",
      "metadata": {
        "id": "HQYkN0W6Je1f",
        "colab_type": "code",
        "colab": {}
      },
      "source": [
        "%matplotlib inline \n",
        "plt.plot(recalls,precisions,\"b--\")\n",
        "plt.ylabel(\"Precision\")\n",
        "plt.xlabel(\"Recall\")\n",
        "plt.show()"
      ],
      "execution_count": 0,
      "outputs": []
    },
    {
      "cell_type": "markdown",
      "metadata": {
        "id": "E80yBQiZKgn2",
        "colab_type": "text"
      },
      "source": [
        "We should select a value just before that drop"
      ]
    },
    {
      "cell_type": "code",
      "metadata": {
        "id": "vJKiO6XiKkIp",
        "colab_type": "code",
        "colab": {}
      },
      "source": [
        "# A 90% precision classifier by guess (threshold = 70000)\n",
        "threshold = 70000\n",
        "y_train_pred90 = (y_scores>70000)\n",
        "\n",
        "# It is actually a 85% precision classifier\n",
        "print(precision_score(y_train5, y_train_pred90))\n",
        "\n",
        "# 58% recall\n",
        "print(recall_score(y_train5, y_train_pred90))"
      ],
      "execution_count": 0,
      "outputs": []
    },
    {
      "cell_type": "markdown",
      "metadata": {
        "id": "s4Q8ekPeLYGC",
        "colab_type": "text"
      },
      "source": [
        "### Receiver Operating Characterstic (ROC) Curve\n",
        "\n",
        "**ROC Curve** plots the **True Positive Rate**(Recall) versus **False Positive Rate**.\n",
        "\n",
        "**False Postive Rate** could be calculated as **1 - True Negative Rate**. True Negative Rate is also known as *specificity*.\n"
      ]
    },
    {
      "cell_type": "code",
      "metadata": {
        "id": "B1g6g3BsM5kU",
        "colab_type": "code",
        "colab": {}
      },
      "source": [
        "from sklearn.metrics import roc_curve\n",
        "\n",
        "fpr, tpr, thresholds = roc_curve(y_train5, y_train_pred)\n",
        "\n",
        "plt.plot(fpr, tpr, \"r--\")\n",
        "plt.xlabel(\"False Positive Rate\")\n",
        "plt.ylabel(\"True Positive Rate\")\n",
        "plt.title(\"ROC Curve\")\n",
        "plt.show()"
      ],
      "execution_count": 0,
      "outputs": []
    },
    {
      "cell_type": "markdown",
      "metadata": {
        "id": "DyLjABjaNlQZ",
        "colab_type": "text"
      },
      "source": [
        "To compare classifiers you can compare **Area Under Curve** of ROC Curves. A perfect classifier will have AUC =1."
      ]
    },
    {
      "cell_type": "code",
      "metadata": {
        "id": "q4LPIjbZNUDx",
        "colab_type": "code",
        "colab": {}
      },
      "source": [
        "from sklearn.metrics import roc_auc_score\n",
        "\n",
        "roc_auc_score(y_train5, y_train_pred)\n"
      ],
      "execution_count": 0,
      "outputs": []
    },
    {
      "cell_type": "markdown",
      "metadata": {
        "id": "4g-igNzSN_23",
        "colab_type": "text"
      },
      "source": [
        "**RULE OF THUMB : ** Use Precision/Recall curve whenenver positive class is rarer (like in this case) and you care more about False Positives than False Negatives. Use ROC Curve otherwise."
      ]
    },
    {
      "cell_type": "markdown",
      "metadata": {
        "id": "BfZtcNOYOwIZ",
        "colab_type": "text"
      },
      "source": [
        "### Training Random Forest and calculating ROC curve and ROC AUC score for the classifier\n",
        "\n",
        "**RandomForestClassfier** returns probablity matrix that an instance belong to some class instead of decision score.\n"
      ]
    },
    {
      "cell_type": "code",
      "metadata": {
        "id": "NhHBDT_rOsBV",
        "colab_type": "code",
        "colab": {}
      },
      "source": [
        "from sklearn.ensemble import RandomForestClassifier\n",
        "\n",
        "forest = RandomForestClassifier(random_state=42)\n",
        "\n",
        "forest_scores = cross_val_predict(forest, X_train, y_train5, cv=3, \n",
        "                                  method=\"predict_proba\")\n",
        "# Probability of positive class is score\n",
        "forest_score_pos = forest_scores[:,1]\n",
        "\n",
        "fpr_forest, tpr_forest, thresholds = roc_curve(y_train5, forest_score_pos)\n",
        "\n",
        "plt.plot(fpr_forest, tpr_forest, \"r--\", label=\"Random Forest\")\n",
        "plt.plot(fpr, tpr, \"b--\", label=\"Stochastic Gradient Descent\")\n",
        "plt.xlabel(\"False Positive Rate\")\n",
        "plt.ylabel(\"True Positive Rate\")\n",
        "plt.title(\"ROC Curve\")\n",
        "plt.legend(loc=\"lower right\")\n",
        "plt.show()"
      ],
      "execution_count": 0,
      "outputs": []
    },
    {
      "cell_type": "markdown",
      "metadata": {
        "id": "iM_N3ZtmRQGA",
        "colab_type": "text"
      },
      "source": [
        "The classifier more to the upper left (**Random Forest**) is the better classifier."
      ]
    },
    {
      "cell_type": "code",
      "metadata": {
        "id": "mw4bEgFfRcCU",
        "colab_type": "code",
        "colab": {}
      },
      "source": [
        "roc_auc_score(y_train5, forest_score_pos)"
      ],
      "execution_count": 0,
      "outputs": []
    },
    {
      "cell_type": "markdown",
      "metadata": {
        "id": "6eafwMzeRjoU",
        "colab_type": "text"
      },
      "source": [
        "It is almost perfect score for Random Forest Classifer"
      ]
    },
    {
      "cell_type": "markdown",
      "metadata": {
        "id": "GLvRdQ4SR0Es",
        "colab_type": "text"
      },
      "source": [
        "# Multiclass Classification\n",
        "\n",
        "Multinominal or Multiclass classifiers such as KNearestNeighbor can distinguish between more that two classes.\n",
        "You could use multiple binary classifiers for multiclass classification but scaling could be a problem with algorithms such as Support Vector Machine.  \n",
        "There are multiple statergies to use binary classifiers as multiclass classifiers.\n",
        "\n",
        "**One Vs All** (OvA) : When you train one binary classifiers one for each class (10 binary classfiers for 10 digits)  \n",
        "**One Vs One** (OvO) : When you train binary classifiers for each pair of class (45 binary classfiers for 10 digits)\n",
        "Advantage of OvO is that it need to be trained on a specific part of dataset, not the complete dataset.  \n",
        "\n",
        "Generally OvA is preferred over OvO but for some algorithms such as SVM, OvO is preferred as training large number of classifiers on small dataset is convinient (for SVM), than training few classifiers on large dataset.\n"
      ]
    },
    {
      "cell_type": "code",
      "metadata": {
        "id": "ewZqptx6RqEB",
        "colab_type": "code",
        "colab": {}
      },
      "source": [
        "# Training on original label and features\n",
        "sgd = sgd.fit(X_train, y_train)\n",
        "\n",
        "sgd.predict([some_digit])"
      ],
      "execution_count": 0,
      "outputs": []
    },
    {
      "cell_type": "code",
      "metadata": {
        "id": "if_-Btj6b0LS",
        "colab_type": "code",
        "colab": {}
      },
      "source": [
        "scores = sgd.decision_function([some_digit])\n",
        "print(np.argmax(scores)) # Class 3 has highest decision score"
      ],
      "execution_count": 0,
      "outputs": []
    },
    {
      "cell_type": "code",
      "metadata": {
        "id": "h_HJSKUycDLL",
        "colab_type": "code",
        "colab": {}
      },
      "source": [
        "print(sgd.classes_) # All classes fed to classifier"
      ],
      "execution_count": 0,
      "outputs": []
    },
    {
      "cell_type": "markdown",
      "metadata": {
        "id": "eVvGhkrtcNe4",
        "colab_type": "text"
      },
      "source": [
        "If you want to force OvA or OvO strategy on classifier then make an instance of **OneVsRestClassfier** or **OneVsOneClassfier** respectively and pass the classfier as variable."
      ]
    },
    {
      "cell_type": "code",
      "metadata": {
        "id": "6VI8qyN8csPs",
        "colab_type": "code",
        "colab": {}
      },
      "source": [
        "from sklearn.multiclass import OneVsOneClassifier\n",
        "\n",
        "ovo_sgd = OneVsOneClassifier(SGDClassifier(random_state=42))\n",
        "\n",
        "ovo_sgd = ovo_sgd.fit(X_train, y_train)\n",
        "\n",
        "print(ovo_sgd.predict([some_digit]))\n",
        "\n",
        "# Number of binary classfiers\n",
        "print(len(ovo_sgd.estimators_))"
      ],
      "execution_count": 0,
      "outputs": []
    },
    {
      "cell_type": "code",
      "metadata": {
        "id": "0fA9Z2gTd-VK",
        "colab_type": "code",
        "colab": {}
      },
      "source": [
        "forest.fit(X_train, y_train)\n",
        "forest.predict_proba([some_digit])"
      ],
      "execution_count": 0,
      "outputs": []
    },
    {
      "cell_type": "code",
      "metadata": {
        "id": "-o36Xi-HeOVb",
        "colab_type": "code",
        "colab": {}
      },
      "source": [
        "cross_val_score(sgd, X_train, y_train, cv=3, scoring=\"accuracy\")"
      ],
      "execution_count": 0,
      "outputs": []
    },
    {
      "cell_type": "code",
      "metadata": {
        "id": "fwU7RKSjeYvo",
        "colab_type": "code",
        "colab": {}
      },
      "source": [
        "cross_val_score(forest, X_train, y_train, cv=3, scoring=\"accuracy\")"
      ],
      "execution_count": 0,
      "outputs": []
    },
    {
      "cell_type": "markdown",
      "metadata": {
        "id": "q8-6B4Z6qOEU",
        "colab_type": "text"
      },
      "source": [
        "Scaling the features will improve accuracy"
      ]
    },
    {
      "cell_type": "code",
      "metadata": {
        "id": "pGvhXB6gqKJV",
        "colab_type": "code",
        "colab": {}
      },
      "source": [
        "from sklearn.preprocessing import StandardScaler\n",
        "\n",
        "sca = StandardScaler()\n",
        "\n",
        "X_scaled = sca.fit_transform(X_train.astype(np.float64))\n",
        "\n",
        "cross_val_score(sgd, X_scaled, y_train, cv=3, scoring=\"accuracy\")"
      ],
      "execution_count": 0,
      "outputs": []
    },
    {
      "cell_type": "code",
      "metadata": {
        "id": "Wk98xxB3qi6H",
        "colab_type": "code",
        "colab": {}
      },
      "source": [
        "cross_val_score(forest, X_scaled, y_train, cv=3, scoring=\"accuracy\")"
      ],
      "execution_count": 0,
      "outputs": []
    },
    {
      "cell_type": "markdown",
      "metadata": {
        "id": "I8-6lBEareap",
        "colab_type": "text"
      },
      "source": [
        "## Confusion matrix"
      ]
    },
    {
      "cell_type": "code",
      "metadata": {
        "id": "ayzDY3hsqseL",
        "colab_type": "code",
        "colab": {}
      },
      "source": [
        "# Creating confusion matrix\n",
        "\n",
        "y_pred_score = cross_val_predict(forest, X_scaled, y_train, cv=3)\n",
        "\n",
        "conf = confusion_matrix(y_train, y_pred_score)\n",
        "conf"
      ],
      "execution_count": 0,
      "outputs": []
    },
    {
      "cell_type": "code",
      "metadata": {
        "id": "uJ1SiNtyrQ0e",
        "colab_type": "code",
        "colab": {}
      },
      "source": [
        "plt.matshow(conf, cmap = plt.cm.gray)\n",
        "plt.show()"
      ],
      "execution_count": 0,
      "outputs": []
    },
    {
      "cell_type": "markdown",
      "metadata": {
        "id": "IY1tZBmAria4",
        "colab_type": "text"
      },
      "source": [
        "But the above matrix is biased towards classes with more instances in dataset."
      ]
    },
    {
      "cell_type": "code",
      "metadata": {
        "id": "FNqXwLcWrYkd",
        "colab_type": "code",
        "colab": {}
      },
      "source": [
        "# Calculating number of instances per class by adding rows\n",
        "col_sums = conf.sum(axis=1, keepdims=True)\n",
        "\n",
        "# Normalizing confusion matrix\n",
        "norm_conf = conf / col_sums\n",
        "\n",
        "# Filling 0s in diagonal as it does not represent errors\n",
        "np.fill_diagonal(norm_conf, 0)\n",
        "\n",
        "# Plotting confusion matrix\n",
        "plt.matshow(norm_conf, cmap = plt.cm.gray)\n",
        "plt.show()"
      ],
      "execution_count": 0,
      "outputs": []
    },
    {
      "cell_type": "markdown",
      "metadata": {
        "id": "M3LjKgOMsbY3",
        "colab_type": "text"
      },
      "source": [
        "# Multilabel Classification\n",
        "\n",
        "In this type of classification, dataset can have multiple classes and those labels can have multiple values (binary labels). \n",
        "\n",
        "**KNeighbor** is one such kind of classifier.\n",
        "\n",
        "The following classifier has multiple classes :\n",
        "1. Larger than 7\n",
        "2. Odd\n",
        "\n",
        "and both have  boolen values (True or False)"
      ]
    },
    {
      "cell_type": "code",
      "metadata": {
        "id": "2lZHh5matI2m",
        "colab_type": "code",
        "colab": {}
      },
      "source": [
        "from sklearn.neighbors import KNeighborsClassifier\n",
        "\n",
        "knn = KNeighborsClassifier()\n",
        "\n",
        "y_large7 = (y_train > 7)\n",
        "y_odd = (y_train % 2 != 0)\n",
        "\n",
        "y_multi = np.c_[y_large7, y_odd]\n",
        "\n",
        "knn = knn.fit(X_train, y_multi)\n",
        "\n",
        "knn.predict([some_digit])"
      ],
      "execution_count": 0,
      "outputs": []
    },
    {
      "cell_type": "code",
      "metadata": {
        "id": "r9BQ5lmot2Em",
        "colab_type": "code",
        "colab": {}
      },
      "source": [
        "\"\"\"knn_score = cross_val_predict(knn, X_train, y_multi, cv=3)\n",
        "\n",
        "# average = \"macro\" means all labels are equally important \n",
        "# (same number of instances for each label)\n",
        "\n",
        "# if that is not the case use average=\"weighted\"\n",
        "f1_score(y_train, knn_score, average=\"macro\")\"\"\""
      ],
      "execution_count": 0,
      "outputs": []
    },
    {
      "cell_type": "markdown",
      "metadata": {
        "id": "X7-4E7DQu-ow",
        "colab_type": "text"
      },
      "source": [
        "# Multioutput Classification\n",
        "\n",
        "It is a generalization of multilabel classification, where each label could have multiple class.\n",
        "\n",
        "Here, we will make a classifier that reduces noise i.e. tweaks the pixel intensities.\n",
        "Each pixel (label) has multiple values ranging from 0 to 255 (classes)."
      ]
    },
    {
      "cell_type": "code",
      "metadata": {
        "id": "AUp1LJgQv0ds",
        "colab_type": "code",
        "colab": {}
      },
      "source": [
        "# Noisy images as input\n",
        "noise_train = np.random.randint(0,100, (len(X_train), 784))\n",
        "noise_test = np.random.randint(0, 100, (len(X_test), 784))\n",
        "\n",
        "X_train_mod = X_train + noise_train\n",
        "X_test_mod = X_test + noise_test\n",
        "\n",
        "# Clean images as prediction labels\n",
        "y_train_mod = X_train\n",
        "y_test_mod = X_test"
      ],
      "execution_count": 0,
      "outputs": []
    },
    {
      "cell_type": "code",
      "metadata": {
        "id": "NWv9KvjEwXwo",
        "colab_type": "code",
        "colab": {}
      },
      "source": [
        "knn = KNeighborsClassifier()\n",
        "knn = knn.fit(X_train_mod, y_train_mod)\n",
        "cleaned = knn.predict([X_test_mod[6]])\n",
        "\n",
        "plt.imshow(cleaned.reshape(28,28))"
      ],
      "execution_count": 0,
      "outputs": []
    },
    {
      "cell_type": "markdown",
      "metadata": {
        "id": "2O0K22m1vO3r",
        "colab_type": "text"
      },
      "source": [
        "# Trying to make a Kneighbor classifier with 97% accuracy\n"
      ]
    },
    {
      "cell_type": "code",
      "metadata": {
        "id": "bVosY6v1vNVF",
        "colab_type": "code",
        "colab": {}
      },
      "source": [
        "knn_final = KNeighborsClassifier()\n",
        "\n",
        "cross_val_knn = cross_val_score(knn_final, X_scaled, y_train, cv=3, scoring=\"accuracy\")\n",
        "\n",
        "print(\"Initial score : {}\".format(cross_val_knn))\n",
        "print(\"Mean : {}\".format(np.mean(cross_val_knn)))\n",
        "print(\"STD: {}\".format(np.mean(cross_val_knn)))"
      ],
      "execution_count": 0,
      "outputs": []
    },
    {
      "cell_type": "code",
      "metadata": {
        "id": "gW-zfHzrwoml",
        "colab_type": "code",
        "colab": {}
      },
      "source": [
        "param_grid = [{\"n_neighbors\":[3, 5, 7],\n",
        "             \"weights\":[\"uniform\",\"distance\"]}]\n",
        "\n",
        "from sklearn.model_selection import GridSearchCV\n",
        "\n",
        "grid_search = GridSearchCV(knn_final, param_grid,\n",
        "                          cv=5, scoring=\"accuracy\")\n",
        "grid_search.fit(X_scaled, y_train)"
      ],
      "execution_count": 0,
      "outputs": []
    },
    {
      "cell_type": "code",
      "metadata": {
        "id": "UOrIfKK-wqes",
        "colab_type": "code",
        "colab": {}
      },
      "source": [
        "grid_search.best_estimator_"
      ],
      "execution_count": 0,
      "outputs": []
    }
  ]
}